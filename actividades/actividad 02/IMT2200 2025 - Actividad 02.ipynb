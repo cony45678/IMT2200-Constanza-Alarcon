{
 "cells": [
  {
   "cell_type": "markdown",
   "id": "a6311079",
   "metadata": {},
   "source": [
    "# <img style=\"float: left; padding-right: 20px; width: 200px\" src=\"https://raw.githubusercontent.com/raxlab/imt2200-data/main/media/logo.jpg\">  IMT 2200 - Introducción a Ciencia de Datos\n",
    "**Pontificia Universidad Católica de Chile**<br>\n",
    "**Instituto de Ingeniería Matemática y Computacional**<br>\n",
    "**Semestre 2025-S2**<br>\n",
    "**Profesor:** Rodrigo A. Carrasco <br>"
   ]
  },
  {
   "cell_type": "markdown",
   "id": "5ea9347c",
   "metadata": {},
   "source": [
    "# <h1><center>Actividad 02: Extracción y Revisión de Datos</center></h1>\n",
    "\n",
    "Esta actividad busca aplicar lo que acabamos de ver en clases sobre extracción de datos y conectarlo con la materia de \"Tipos de Datos\" que hemos visto en las clases pasadas."
   ]
  },
  {
   "cell_type": "markdown",
   "id": "a2c54596",
   "metadata": {},
   "source": [
    "## Instrucciones\n",
    "\n",
    "Esto Notebook contiene las instrucciones a realizar para la actividad. \n",
    "\n",
    "<b>Al finalizarla, deben subir el Notebook y los archivos generados en un único archivo .zip, al módulo de la Actividad 02 en Canvas.</b>\n",
    "\n",
    "Para esta actividad deben hacer lo siguiente:\n",
    "<ol>\n",
    "<li>Extraer datos</li>\n",
    "\n",
    "Para esta actividad usaremos [**PokeAPI**](https://pokeapi.co/about), una interfaz de código abierto con información detallada relacionada a los videojuegos de Pokémon.\n",
    "    \n",
    "En esta actividad nos concentraremos en comparar las características básicas de los 151 pokémon originales. Para obtener la información de un pokémon, utilizaremos el siguiente URL:\n",
    "\n",
    "```\n",
    "https://pokeapi.co/api/v2/pokemon/{id_pokemon}\n",
    "```\n",
    "\n",
    "Donde `{id_pokemon}` es el identificador del pokémon (un número entero). \n",
    "    \n",
    "<br>\n",
    "\n",
    "<li>Formato</li>\n",
    "\n",
    "¿En qué formato están los datos descargados? Identifique si son datos estructurados, semi-estructurados o no estructurados, explicando claramente por qué los categoriza así.\n",
    "no son semiestructurados porque no deja leerlos con .json\n",
    "es dato estructurado\n",
    "\n",
    "<br>\n",
    "    \n",
    "<li>DataFrame de análisis</li>\n",
    "\n",
    "Construya un DataFrame con al menos las siguientes columnas: `name, type1, type2, hp, attack, defense, special-attack, special-defense, speed`. En caso de que un pokémon tenga solo un tipo, puede dejar su atributo `type2 = None`. Guarde este nuevo set de datos en un archivo CSV.\n",
    "\n",
    "**Hint:** Inspeccione el atributo `stats` y `types` de las respuestas obtenidas. El valor que debe almacenar en el DataFrame estará bajó el nombre `base_stat`.\n",
    "    \n",
    "<br>\n",
    "    \n",
    "<li>Preguntas</li>\n",
    "\n",
    "A partir de su nuevo dataset, responda las siguientes preguntas:\n",
    "\n",
    "4.1 ¿Cuál son los 3 tipos (fuego, agua, tierra, etc.) más comunes en los pokémones de la primera generación?\n",
    "    \n",
    "4.2 ¿Cuál es el pokémon más rápido? ¿Y el más lento?\n",
    "\n",
    "4.3 Genere una nueva columna en el DataFrame llamada `total-stats` que consista en la suma de todos los stats de un pokémon (`hp, attack, defense, special-attack, special-defense, speed`) y grafique un histograma de esta nueva variable. ¿Cuál es el rango de valores"
   ]
  },
  {
   "cell_type": "markdown",
   "id": "f66e4487",
   "metadata": {},
   "source": [
    "## Rúbrica\n",
    "\n",
    "- Si han hecho todo y sólo hay errores menores: 7.0\n",
    "- Si sólo llegaron hasta la parte 3: 5.0\n",
    "- Menos que eso: 1.0"
   ]
  },
  {
   "cell_type": "markdown",
   "id": "c6494636",
   "metadata": {},
   "source": [
    "## 1. Extraer datos\n",
    "\n",
    "Utilizando el URL indicado en el enunciado, obtenga la información de los primeros 151 pokémones y guárdelos en una lista llamada `pokemones`. \n",
    "\n",
    "Para ello debe usar un `for` que itere sobre los diferentes IDs de pokemon y rescate la información de cada uno de ellos, concatenándola en una lista. Antes de iterar sobre los 151 pokemones, pruebe con 1 o 2 y una vez que verifique que su código está funcionando, aplique a los 151 primeros pokemones."
   ]
  },
  {
   "cell_type": "code",
   "execution_count": null,
   "id": "c92f4791",
   "metadata": {},
   "outputs": [],
   "source": [
    "import requests\n",
    "import pandas as pd\n"
   ]
  },
  {
   "cell_type": "code",
   "execution_count": 56,
   "id": "1b24d932",
   "metadata": {},
   "outputs": [
    {
     "ename": "ValueError",
     "evalue": "Invalid file path or buffer object type: <class 'requests.models.Response'>",
     "output_type": "error",
     "traceback": [
      "\u001b[31m---------------------------------------------------------------------------\u001b[39m",
      "\u001b[31mValueError\u001b[39m                                Traceback (most recent call last)",
      "\u001b[36mCell\u001b[39m\u001b[36m \u001b[39m\u001b[32mIn[56]\u001b[39m\u001b[32m, line 12\u001b[39m\n\u001b[32m      8\u001b[39m info = requests.get(\u001b[33m\"\u001b[39m\u001b[33mhttps://pokeapi.co/api/v2/pokemon/\u001b[39m\u001b[38;5;132;01m{}\u001b[39;00m\u001b[33m\"\u001b[39m)\n\u001b[32m     10\u001b[39m     \u001b[38;5;66;03m#info\u001b[39;00m\n\u001b[32m---> \u001b[39m\u001b[32m12\u001b[39m pokemones = \u001b[43mpd\u001b[49m\u001b[43m.\u001b[49m\u001b[43mread_excel\u001b[49m\u001b[43m(\u001b[49m\u001b[43minfo\u001b[49m\u001b[43m)\u001b[49m\n\u001b[32m     13\u001b[39m \u001b[38;5;66;03m#poke = pd.read_excel(info)\u001b[39;00m\n\u001b[32m     14\u001b[39m data = pd.DataFrame(pokemones)\n",
      "\u001b[36mFile \u001b[39m\u001b[32m~\\AppData\\Local\\Programs\\Python\\Python312\\Lib\\site-packages\\pandas\\io\\excel\\_base.py:495\u001b[39m, in \u001b[36mread_excel\u001b[39m\u001b[34m(io, sheet_name, header, names, index_col, usecols, dtype, engine, converters, true_values, false_values, skiprows, nrows, na_values, keep_default_na, na_filter, verbose, parse_dates, date_parser, date_format, thousands, decimal, comment, skipfooter, storage_options, dtype_backend, engine_kwargs)\u001b[39m\n\u001b[32m    493\u001b[39m \u001b[38;5;28;01mif\u001b[39;00m \u001b[38;5;129;01mnot\u001b[39;00m \u001b[38;5;28misinstance\u001b[39m(io, ExcelFile):\n\u001b[32m    494\u001b[39m     should_close = \u001b[38;5;28;01mTrue\u001b[39;00m\n\u001b[32m--> \u001b[39m\u001b[32m495\u001b[39m     io = \u001b[43mExcelFile\u001b[49m\u001b[43m(\u001b[49m\n\u001b[32m    496\u001b[39m \u001b[43m        \u001b[49m\u001b[43mio\u001b[49m\u001b[43m,\u001b[49m\n\u001b[32m    497\u001b[39m \u001b[43m        \u001b[49m\u001b[43mstorage_options\u001b[49m\u001b[43m=\u001b[49m\u001b[43mstorage_options\u001b[49m\u001b[43m,\u001b[49m\n\u001b[32m    498\u001b[39m \u001b[43m        \u001b[49m\u001b[43mengine\u001b[49m\u001b[43m=\u001b[49m\u001b[43mengine\u001b[49m\u001b[43m,\u001b[49m\n\u001b[32m    499\u001b[39m \u001b[43m        \u001b[49m\u001b[43mengine_kwargs\u001b[49m\u001b[43m=\u001b[49m\u001b[43mengine_kwargs\u001b[49m\u001b[43m,\u001b[49m\n\u001b[32m    500\u001b[39m \u001b[43m    \u001b[49m\u001b[43m)\u001b[49m\n\u001b[32m    501\u001b[39m \u001b[38;5;28;01melif\u001b[39;00m engine \u001b[38;5;129;01mand\u001b[39;00m engine != io.engine:\n\u001b[32m    502\u001b[39m     \u001b[38;5;28;01mraise\u001b[39;00m \u001b[38;5;167;01mValueError\u001b[39;00m(\n\u001b[32m    503\u001b[39m         \u001b[33m\"\u001b[39m\u001b[33mEngine should not be specified when passing \u001b[39m\u001b[33m\"\u001b[39m\n\u001b[32m    504\u001b[39m         \u001b[33m\"\u001b[39m\u001b[33man ExcelFile - ExcelFile already has the engine set\u001b[39m\u001b[33m\"\u001b[39m\n\u001b[32m    505\u001b[39m     )\n",
      "\u001b[36mFile \u001b[39m\u001b[32m~\\AppData\\Local\\Programs\\Python\\Python312\\Lib\\site-packages\\pandas\\io\\excel\\_base.py:1550\u001b[39m, in \u001b[36mExcelFile.__init__\u001b[39m\u001b[34m(self, path_or_buffer, engine, storage_options, engine_kwargs)\u001b[39m\n\u001b[32m   1548\u001b[39m     ext = \u001b[33m\"\u001b[39m\u001b[33mxls\u001b[39m\u001b[33m\"\u001b[39m\n\u001b[32m   1549\u001b[39m \u001b[38;5;28;01melse\u001b[39;00m:\n\u001b[32m-> \u001b[39m\u001b[32m1550\u001b[39m     ext = \u001b[43minspect_excel_format\u001b[49m\u001b[43m(\u001b[49m\n\u001b[32m   1551\u001b[39m \u001b[43m        \u001b[49m\u001b[43mcontent_or_path\u001b[49m\u001b[43m=\u001b[49m\u001b[43mpath_or_buffer\u001b[49m\u001b[43m,\u001b[49m\u001b[43m \u001b[49m\u001b[43mstorage_options\u001b[49m\u001b[43m=\u001b[49m\u001b[43mstorage_options\u001b[49m\n\u001b[32m   1552\u001b[39m \u001b[43m    \u001b[49m\u001b[43m)\u001b[49m\n\u001b[32m   1553\u001b[39m     \u001b[38;5;28;01mif\u001b[39;00m ext \u001b[38;5;129;01mis\u001b[39;00m \u001b[38;5;28;01mNone\u001b[39;00m:\n\u001b[32m   1554\u001b[39m         \u001b[38;5;28;01mraise\u001b[39;00m \u001b[38;5;167;01mValueError\u001b[39;00m(\n\u001b[32m   1555\u001b[39m             \u001b[33m\"\u001b[39m\u001b[33mExcel file format cannot be determined, you must specify \u001b[39m\u001b[33m\"\u001b[39m\n\u001b[32m   1556\u001b[39m             \u001b[33m\"\u001b[39m\u001b[33man engine manually.\u001b[39m\u001b[33m\"\u001b[39m\n\u001b[32m   1557\u001b[39m         )\n",
      "\u001b[36mFile \u001b[39m\u001b[32m~\\AppData\\Local\\Programs\\Python\\Python312\\Lib\\site-packages\\pandas\\io\\excel\\_base.py:1402\u001b[39m, in \u001b[36minspect_excel_format\u001b[39m\u001b[34m(content_or_path, storage_options)\u001b[39m\n\u001b[32m   1399\u001b[39m \u001b[38;5;28;01mif\u001b[39;00m \u001b[38;5;28misinstance\u001b[39m(content_or_path, \u001b[38;5;28mbytes\u001b[39m):\n\u001b[32m   1400\u001b[39m     content_or_path = BytesIO(content_or_path)\n\u001b[32m-> \u001b[39m\u001b[32m1402\u001b[39m \u001b[38;5;28;01mwith\u001b[39;00m \u001b[43mget_handle\u001b[49m\u001b[43m(\u001b[49m\n\u001b[32m   1403\u001b[39m \u001b[43m    \u001b[49m\u001b[43mcontent_or_path\u001b[49m\u001b[43m,\u001b[49m\u001b[43m \u001b[49m\u001b[33;43m\"\u001b[39;49m\u001b[33;43mrb\u001b[39;49m\u001b[33;43m\"\u001b[39;49m\u001b[43m,\u001b[49m\u001b[43m \u001b[49m\u001b[43mstorage_options\u001b[49m\u001b[43m=\u001b[49m\u001b[43mstorage_options\u001b[49m\u001b[43m,\u001b[49m\u001b[43m \u001b[49m\u001b[43mis_text\u001b[49m\u001b[43m=\u001b[49m\u001b[38;5;28;43;01mFalse\u001b[39;49;00m\n\u001b[32m   1404\u001b[39m \u001b[43m\u001b[49m\u001b[43m)\u001b[49m \u001b[38;5;28;01mas\u001b[39;00m handle:\n\u001b[32m   1405\u001b[39m     stream = handle.handle\n\u001b[32m   1406\u001b[39m     stream.seek(\u001b[32m0\u001b[39m)\n",
      "\u001b[36mFile \u001b[39m\u001b[32m~\\AppData\\Local\\Programs\\Python\\Python312\\Lib\\site-packages\\pandas\\io\\common.py:728\u001b[39m, in \u001b[36mget_handle\u001b[39m\u001b[34m(path_or_buf, mode, encoding, compression, memory_map, is_text, errors, storage_options)\u001b[39m\n\u001b[32m    725\u001b[39m     codecs.lookup_error(errors)\n\u001b[32m    727\u001b[39m \u001b[38;5;66;03m# open URLs\u001b[39;00m\n\u001b[32m--> \u001b[39m\u001b[32m728\u001b[39m ioargs = \u001b[43m_get_filepath_or_buffer\u001b[49m\u001b[43m(\u001b[49m\n\u001b[32m    729\u001b[39m \u001b[43m    \u001b[49m\u001b[43mpath_or_buf\u001b[49m\u001b[43m,\u001b[49m\n\u001b[32m    730\u001b[39m \u001b[43m    \u001b[49m\u001b[43mencoding\u001b[49m\u001b[43m=\u001b[49m\u001b[43mencoding\u001b[49m\u001b[43m,\u001b[49m\n\u001b[32m    731\u001b[39m \u001b[43m    \u001b[49m\u001b[43mcompression\u001b[49m\u001b[43m=\u001b[49m\u001b[43mcompression\u001b[49m\u001b[43m,\u001b[49m\n\u001b[32m    732\u001b[39m \u001b[43m    \u001b[49m\u001b[43mmode\u001b[49m\u001b[43m=\u001b[49m\u001b[43mmode\u001b[49m\u001b[43m,\u001b[49m\n\u001b[32m    733\u001b[39m \u001b[43m    \u001b[49m\u001b[43mstorage_options\u001b[49m\u001b[43m=\u001b[49m\u001b[43mstorage_options\u001b[49m\u001b[43m,\u001b[49m\n\u001b[32m    734\u001b[39m \u001b[43m\u001b[49m\u001b[43m)\u001b[49m\n\u001b[32m    736\u001b[39m handle = ioargs.filepath_or_buffer\n\u001b[32m    737\u001b[39m handles: \u001b[38;5;28mlist\u001b[39m[BaseBuffer]\n",
      "\u001b[36mFile \u001b[39m\u001b[32m~\\AppData\\Local\\Programs\\Python\\Python312\\Lib\\site-packages\\pandas\\io\\common.py:472\u001b[39m, in \u001b[36m_get_filepath_or_buffer\u001b[39m\u001b[34m(filepath_or_buffer, encoding, compression, mode, storage_options)\u001b[39m\n\u001b[32m    468\u001b[39m \u001b[38;5;28;01mif\u001b[39;00m \u001b[38;5;129;01mnot\u001b[39;00m (\n\u001b[32m    469\u001b[39m     \u001b[38;5;28mhasattr\u001b[39m(filepath_or_buffer, \u001b[33m\"\u001b[39m\u001b[33mread\u001b[39m\u001b[33m\"\u001b[39m) \u001b[38;5;129;01mor\u001b[39;00m \u001b[38;5;28mhasattr\u001b[39m(filepath_or_buffer, \u001b[33m\"\u001b[39m\u001b[33mwrite\u001b[39m\u001b[33m\"\u001b[39m)\n\u001b[32m    470\u001b[39m ):\n\u001b[32m    471\u001b[39m     msg = \u001b[33mf\u001b[39m\u001b[33m\"\u001b[39m\u001b[33mInvalid file path or buffer object type: \u001b[39m\u001b[38;5;132;01m{\u001b[39;00m\u001b[38;5;28mtype\u001b[39m(filepath_or_buffer)\u001b[38;5;132;01m}\u001b[39;00m\u001b[33m\"\u001b[39m\n\u001b[32m--> \u001b[39m\u001b[32m472\u001b[39m     \u001b[38;5;28;01mraise\u001b[39;00m \u001b[38;5;167;01mValueError\u001b[39;00m(msg)\n\u001b[32m    474\u001b[39m \u001b[38;5;28;01mreturn\u001b[39;00m IOArgs(\n\u001b[32m    475\u001b[39m     filepath_or_buffer=filepath_or_buffer,\n\u001b[32m    476\u001b[39m     encoding=encoding,\n\u001b[32m   (...)\u001b[39m\u001b[32m    479\u001b[39m     mode=mode,\n\u001b[32m    480\u001b[39m )\n",
      "\u001b[31mValueError\u001b[39m: Invalid file path or buffer object type: <class 'requests.models.Response'>"
     ]
    }
   ],
   "source": [
    "#lista = []\n",
    "#for j in range(150):\n",
    "    #info = requests.get(\"https://pokeapi.co/api/v2/pokemon/{id_pokemon}\")\n",
    "    #info\n",
    "    #pokemones = pd.read_csv(info)\n",
    "    #pokemones\n",
    "    #lista = lista.append(info)\n",
    "info = requests.get(\"https://pokeapi.co/api/v2/pokemon/{}\")\n",
    "\n",
    "    #info\n",
    "\n",
    "pokemones = pd.read_excel(info)\n",
    "#poke = pd.read_excel(info)\n",
    "data = pd.DataFrame(pokemones)\n",
    "data\n",
    "#pokemones.head(151)\n",
    "#poke\n",
    "#lista\n",
    "\n",
    "#informacion = info.json()\n",
    "#a = type(informacion)\n",
    "\n",
    "#with open(info, \"r\"):\n",
    " #   b = read.readlines()\n",
    "    #pokemones = pd.read_csv(info)\n",
    "   # pokemosnes\n",
    "\n"
   ]
  },
  {
   "cell_type": "code",
   "execution_count": null,
   "id": "c21068e6",
   "metadata": {},
   "outputs": [],
   "source": []
  },
  {
   "cell_type": "code",
   "execution_count": null,
   "id": "976637c7",
   "metadata": {},
   "outputs": [],
   "source": []
  },
  {
   "cell_type": "markdown",
   "id": "fc8f49d7",
   "metadata": {},
   "source": [
    "## 2. Formato de datos\n",
    "\n",
    "Revise la lista que almacenó en `pokemones` y coméntenos en qué formato están los datos y qué tipos de datos serían estos (estructurados, semi-estructurados, no estructurados).\n",
    "\n",
    "Respuesta:"
   ]
  },
  {
   "cell_type": "markdown",
   "id": "c5b09ba8",
   "metadata": {},
   "source": [
    "son Datos estructurados, porque estan separados por comas como el csv"
   ]
  },
  {
   "cell_type": "markdown",
   "id": "ff451ed0",
   "metadata": {},
   "source": [
    "## 3. DataFrame de análisis\n",
    "\n",
    "Construya ahor un DataFrame para poder analizar los datos posteriormente. Revise las columnas mínimas que debe tener según el enunciado inicial."
   ]
  },
  {
   "cell_type": "code",
   "execution_count": null,
   "id": "facecb52",
   "metadata": {},
   "outputs": [],
   "source": [
    "import pandas as pd\n",
    "\n"
   ]
  },
  {
   "cell_type": "code",
   "execution_count": null,
   "id": "79aa81ff",
   "metadata": {},
   "outputs": [],
   "source": []
  },
  {
   "cell_type": "code",
   "execution_count": null,
   "id": "eecd1cbc",
   "metadata": {},
   "outputs": [],
   "source": []
  },
  {
   "cell_type": "markdown",
   "id": "afeb0222",
   "metadata": {},
   "source": [
    "## 4. Preguntas"
   ]
  },
  {
   "cell_type": "markdown",
   "id": "5e1dd5c3",
   "metadata": {},
   "source": [
    "#### 4.1 ¿Cuál son los 3 tipos (*water, fire, ground,* etc.) más comunes en los pokémones de la primera generación?"
   ]
  },
  {
   "cell_type": "code",
   "execution_count": null,
   "id": "5c12a705",
   "metadata": {},
   "outputs": [],
   "source": []
  },
  {
   "cell_type": "code",
   "execution_count": null,
   "id": "d8ef9d4b",
   "metadata": {},
   "outputs": [],
   "source": []
  },
  {
   "cell_type": "markdown",
   "id": "16247f38",
   "metadata": {},
   "source": [
    "El tipo más común es:"
   ]
  },
  {
   "cell_type": "markdown",
   "id": "584f524f",
   "metadata": {},
   "source": [
    "#### 4.2 ¿Cuál es el pokémon más rápido? ¿Y el más lento?"
   ]
  },
  {
   "cell_type": "code",
   "execution_count": null,
   "id": "1cb9fb99",
   "metadata": {},
   "outputs": [],
   "source": []
  },
  {
   "cell_type": "markdown",
   "id": "9940aedb",
   "metadata": {},
   "source": [
    "El pokémon más rápido es:"
   ]
  },
  {
   "cell_type": "markdown",
   "id": "3212213a",
   "metadata": {},
   "source": [
    "#### 4.3 Genere una nueva columna en el DataFrame llamada `total-stats` que consista en la suma de todos los stats de un pokémon (`hp, attack, defense, special-attack, special-defense, speed`) ¿Cuáles son los valores mínimo y máximo de esta nueva variable?"
   ]
  },
  {
   "cell_type": "code",
   "execution_count": null,
   "id": "b54b12d1",
   "metadata": {},
   "outputs": [],
   "source": []
  },
  {
   "cell_type": "markdown",
   "id": "b7f34ada",
   "metadata": {},
   "source": [
    "El valor máximo lo tiene:\n",
    "\n",
    "y el mínimo lo tiene:"
   ]
  },
  {
   "cell_type": "markdown",
   "id": "e098861c",
   "metadata": {},
   "source": [
    "#### 4.4 Grafique un histograma de `total-stats` y comente brevemente lo que observa de la distribución de este atributo."
   ]
  },
  {
   "cell_type": "code",
   "execution_count": null,
   "id": "74fab9f7",
   "metadata": {},
   "outputs": [],
   "source": [
    "import matplotlib.pyplot as plt\n"
   ]
  },
  {
   "cell_type": "markdown",
   "id": "e8ab882d",
   "metadata": {},
   "source": [
    "Descripción:"
   ]
  }
 ],
 "metadata": {
  "kernelspec": {
   "display_name": "Python 3 (ipykernel)",
   "language": "python",
   "name": "python3"
  },
  "language_info": {
   "codemirror_mode": {
    "name": "ipython",
    "version": 3
   },
   "file_extension": ".py",
   "mimetype": "text/x-python",
   "name": "python",
   "nbconvert_exporter": "python",
   "pygments_lexer": "ipython3",
   "version": "3.12.9"
  }
 },
 "nbformat": 4,
 "nbformat_minor": 5
}
