{
 "cells": [
  {
   "cell_type": "markdown",
   "id": "d7214559",
   "metadata": {},
   "source": [
    "# <img style=\"float: left; padding-right: 20px; width: 200px\" src=\"https://raw.githubusercontent.com/raxlab/imt2200-data/main/media/logo.jpg\">  IMT 2200 - Introducción a Ciencia de Datos\n",
    "**Pontificia Universidad Católica de Chile**<br>\n",
    "**Instituto de Ingeniería Matemática y Computacional**<br>\n",
    "**Semestre 2024-S2**<br>\n",
    "**Profesor:** Rodrigo A. Carrasco <br>\n",
    "**Integrantes:** Diego Olivares, Amelie Ramirez y Zhibin Xue <br>"
   ]
  },
  {
   "cell_type": "markdown",
   "id": "a9f4040b",
   "metadata": {},
   "source": [
    "# <h1><center>Análisis de Tendencias en Videos Musicales de YouTube: Patrones que Influyen en el Éxito de los Videos Musicales</center></h1>"
   ]
  },
  {
   "cell_type": "markdown",
   "id": "6313653a",
   "metadata": {},
   "source": [
    "Esto es una pequeña extracción de mi protecto al que pueden acceder desde este [LINK](https://github.com/wattmoox/Proyecto_Data_Sience.git)"
   ]
  },
  {
   "cell_type": "markdown",
   "id": "7dba6bef",
   "metadata": {},
   "source": [
    "## Contexto y Motivación"
   ]
  },
  {
   "cell_type": "markdown",
   "id": "69ebbaf3",
   "metadata": {},
   "source": [
    "En la era digital, plataformas como Spotify, YouTube y Last.fm han transformado la forma en que se consume y promociona la música, permitiendo una experiencia personalizada y global. Este proyecto busca analizar, mediante datos de estas aplicaciones, los factores que influyen en el éxito de una canción. El objetivo es identificar patrones y relaciones que ayuden a artistas y productoras a optimizar sus estrategias de lanzamiento y promoción musical.\n"
   ]
  },
  {
   "cell_type": "markdown",
   "id": "0251f543",
   "metadata": {},
   "source": [
    "De las preguntas originales, se pudieron responder las siguientes:\n",
    "\n",
    "1. ¿Qué características de los videos están más correlacionadas con un mayor número de visualizaciones? (likes, comentarios y etiquetas)\n",
    "\n",
    "2. ¿La popularidad de una canción en otras plataformas como Spotify o Last.fm precede a su éxito en YouTube?\n",
    "\n",
    "3. ¿Qué géneros musicales generan más interacciones en YouTube, y cómo esto se relaciona con las tendencias de escucha en Spotify o Last.fm?"
   ]
  },
  {
   "cell_type": "markdown",
   "id": "c14c25e7",
   "metadata": {},
   "source": [
    "## Datos"
   ]
  },
  {
   "cell_type": "markdown",
   "id": "0f7ba9ac",
   "metadata": {},
   "source": [
    "### Spotify API:\n",
    "\n",
    "Esta api se utilizó para crear las bases de datos:\n",
    "\n",
    "1. `spotify_global.csv`: 50 canciones tendencia de la aplicación en el mundo\n",
    "2. `youtube_en_spotify.csv`: Los videos tendencia de Chile, EEUU y el Mundo en YouTube buscados en Spotify\n",
    "\n",
    "Todas cuentan con las columnas:\n",
    "\n",
    "* Titulo: Str\n",
    "* Artista: Str\n",
    "* Popularidad: Int\n",
    "* Generos: List\n",
    "\n",
    "Ademas, las bases de datos hechas con youtube tienen las columnas respectivas de esa base de datos"
   ]
  },
  {
   "cell_type": "markdown",
   "id": "c6cfac8b",
   "metadata": {},
   "source": [
    "### Youtube API:\n",
    "\n",
    "Esta api se utilizó para crear las bases de datos:\n",
    "\n",
    "1. `videos_chile.csv`: 30 videos tendencia en Chile (No deja visualizar más de 30)\n",
    "2. `videos_global.csv`: 30 videos tendencia en el mundo (No deja visualizar más de 30)\n",
    "3. `videos_eeuu.csv`: 30 videos tendencia en Estados Unidos (No deja visualizar más de 30)\n",
    "4. `videos_last.fm_global.csv`: Los 50 videos tendencia del mundo en Last.fm buscados en Youtube\n",
    "5. `videos_spotify_global.csv`: Los 50 videos tendencia del mundo en Spotify buscados en Youtube\n",
    "\n",
    "Todas cuentan con las columnas:\n",
    "Titulo,Vistas,Likes,Comentarios,Fecha,Tags\n",
    "* Titulo: Str\n",
    "* Vistas: Int\n",
    "* Likes: Int\n",
    "* Comentarios: Int\n",
    "* Fecha: Str -> DateTime\n",
    "* Tags: Str"
   ]
  },
  {
   "cell_type": "markdown",
   "id": "dcbd73e9",
   "metadata": {},
   "source": [
    "## Imports"
   ]
  },
  {
   "cell_type": "code",
   "execution_count": 14,
   "id": "ef17a8c2",
   "metadata": {},
   "outputs": [],
   "source": [
    "import pandas as pd\n",
    "import seaborn as sns\n",
    "import matplotlib.pyplot as plt\n",
    "import numpy as np\n",
    "import ast"
   ]
  },
  {
   "cell_type": "markdown",
   "id": "9ced466c",
   "metadata": {},
   "source": [
    "### 1. ¿Qué características de los videos están más correlacionadas con un mayor número de visualizaciones? (likes, comentarios y etiquetas)"
   ]
  },
  {
   "cell_type": "code",
   "execution_count": 15,
   "id": "457a6e6d",
   "metadata": {},
   "outputs": [
    {
     "data": {
      "text/html": [
       "<div>\n",
       "<style scoped>\n",
       "    .dataframe tbody tr th:only-of-type {\n",
       "        vertical-align: middle;\n",
       "    }\n",
       "\n",
       "    .dataframe tbody tr th {\n",
       "        vertical-align: top;\n",
       "    }\n",
       "\n",
       "    .dataframe thead th {\n",
       "        text-align: right;\n",
       "    }\n",
       "</style>\n",
       "<table border=\"1\" class=\"dataframe\">\n",
       "  <thead>\n",
       "    <tr style=\"text-align: right;\">\n",
       "      <th></th>\n",
       "      <th>Titulo</th>\n",
       "      <th>Vistas</th>\n",
       "      <th>Likes</th>\n",
       "      <th>Comentarios</th>\n",
       "      <th>Fecha</th>\n",
       "      <th>Tags</th>\n",
       "    </tr>\n",
       "  </thead>\n",
       "  <tbody>\n",
       "    <tr>\n",
       "      <th>0</th>\n",
       "      <td>KAROL G, Feid, DFZM ft. Ovy On The Drums, J Ba...</td>\n",
       "      <td>15598352</td>\n",
       "      <td>883849</td>\n",
       "      <td>73874</td>\n",
       "      <td>2024-11-08T00:00:06Z</td>\n",
       "      <td>['#57']</td>\n",
       "    </tr>\n",
       "    <tr>\n",
       "      <th>1</th>\n",
       "      <td>YoungBoy Never Broke Again - Sneaking [Officia...</td>\n",
       "      <td>1029066</td>\n",
       "      <td>75819</td>\n",
       "      <td>3901</td>\n",
       "      <td>2024-11-08T03:41:23Z</td>\n",
       "      <td>[]</td>\n",
       "    </tr>\n",
       "    <tr>\n",
       "      <th>2</th>\n",
       "      <td>YoungBoy Never Broke Again - Killa Season [Off...</td>\n",
       "      <td>1164882</td>\n",
       "      <td>81449</td>\n",
       "      <td>4392</td>\n",
       "      <td>2024-11-08T04:16:17Z</td>\n",
       "      <td>[]</td>\n",
       "    </tr>\n",
       "    <tr>\n",
       "      <th>3</th>\n",
       "      <td>YoungBoy Never Broke Again - Missing Everythin...</td>\n",
       "      <td>1132351</td>\n",
       "      <td>86119</td>\n",
       "      <td>6341</td>\n",
       "      <td>2024-11-08T02:20:12Z</td>\n",
       "      <td>[]</td>\n",
       "    </tr>\n",
       "    <tr>\n",
       "      <th>4</th>\n",
       "      <td>YoungBoy Never Broke Again - Catch Me [Officia...</td>\n",
       "      <td>812399</td>\n",
       "      <td>55568</td>\n",
       "      <td>2963</td>\n",
       "      <td>2024-11-08T02:20:09Z</td>\n",
       "      <td>[]</td>\n",
       "    </tr>\n",
       "  </tbody>\n",
       "</table>\n",
       "</div>"
      ],
      "text/plain": [
       "                                              Titulo    Vistas   Likes  \\\n",
       "0  KAROL G, Feid, DFZM ft. Ovy On The Drums, J Ba...  15598352  883849   \n",
       "1  YoungBoy Never Broke Again - Sneaking [Officia...   1029066   75819   \n",
       "2  YoungBoy Never Broke Again - Killa Season [Off...   1164882   81449   \n",
       "3  YoungBoy Never Broke Again - Missing Everythin...   1132351   86119   \n",
       "4  YoungBoy Never Broke Again - Catch Me [Officia...    812399   55568   \n",
       "\n",
       "   Comentarios                 Fecha     Tags  \n",
       "0        73874  2024-11-08T00:00:06Z  ['#57']  \n",
       "1         3901  2024-11-08T03:41:23Z       []  \n",
       "2         4392  2024-11-08T04:16:17Z       []  \n",
       "3         6341  2024-11-08T02:20:12Z       []  \n",
       "4         2963  2024-11-08T02:20:09Z       []  "
      ]
     },
     "execution_count": 15,
     "metadata": {},
     "output_type": "execute_result"
    }
   ],
   "source": [
    "# Creamos un dataframe en conjunto para el análisis\n",
    "\n",
    "yt_chile = pd.read_csv(\"data/videos_chile.csv\")\n",
    "yt_global = pd.read_csv(\"data/videos_global.csv\")\n",
    "yt_eeuu = pd.read_csv(\"data/videos_eeuu.csv\")\n",
    "\n",
    "yt_merged = pd.concat([yt_global, yt_eeuu, yt_chile]).drop_duplicates().reset_index(drop=True)\n",
    "yt_merged.head()"
   ]
  },
  {
   "cell_type": "code",
   "execution_count": 16,
   "id": "130fbd15",
   "metadata": {},
   "outputs": [
    {
     "data": {
      "text/plain": [
       "<Axes: xlabel='Vistas', ylabel='Likes'>"
      ]
     },
     "execution_count": 16,
     "metadata": {},
     "output_type": "execute_result"
    },
    {
     "data": {
      "image/png": "[encoded data removed]",
      "text/plain": [
       "<Figure size 640x480 with 1 Axes>"
      ]
     },
     "metadata": {},
     "output_type": "display_data"
    }
   ],
   "source": [
    "# Revisamos las correlaciones\n",
    "\n",
    "sns.scatterplot(x='Vistas', y='Likes', data=yt_merged)\n",
    "sns.scatterplot(x='Vistas', y='Comentarios', data=yt_merged)"
   ]
  },
  {
   "cell_type": "code",
   "execution_count": 17,
   "id": "333d1a09",
   "metadata": {},
   "outputs": [
    {
     "name": "stdout",
     "output_type": "stream",
     "text": [
      "390972\n",
      "320363632\n"
     ]
    }
   ],
   "source": [
    "correlaciones = yt_merged[[\"Vistas\", \"Likes\", \"Comentarios\"]]\n",
    "\n",
    "maximo_comentarios = correlaciones[\"Comentarios\"].max()\n",
    "print(maximo_comentarios)\n",
    "\n",
    "maximo_vista = correlaciones[\"Vistas\"].max()\n",
    "print(maximo_vista)\n",
    "#sns.pairplot(correlaciones)"
   ]
  },
  {
   "cell_type": "code",
   "execution_count": 18,
   "id": "9ebc9609",
   "metadata": {},
   "outputs": [
    {
     "data": {
      "text/plain": [
       "<Axes: xlabel='Vistas', ylabel='Likes'>"
      ]
     },
     "execution_count": 18,
     "metadata": {},
     "output_type": "execute_result"
    },
    {
     "data": {
      "image/png": "[encoded data removed]",
      "text/plain": [
       "<Figure size 640x480 with 1 Axes>"
      ]
     },
     "metadata": {},
     "output_type": "display_data"
    }
   ],
   "source": [
    "# Quitamos los datos mayores puesto que hacen que el rango sea muy grande\n",
    "correlaciones = correlaciones[correlaciones[\"Comentarios\"] < 390972]\n",
    "correlaciones = correlaciones[correlaciones[\"Vistas\"] < 8515277]\n",
    "\n",
    "sns.scatterplot(x='Vistas', y='Likes', data=correlaciones)\n",
    "sns.scatterplot(x='Vistas', y='Comentarios', data=correlaciones)"
   ]
  },
  {
   "cell_type": "code",
   "execution_count": 19,
   "id": "6cfde07d",
   "metadata": {},
   "outputs": [
    {
     "data": {
      "text/plain": [
       "<seaborn.axisgrid.PairGrid at 0x270eb6ca0d0>"
      ]
     },
     "execution_count": 19,
     "metadata": {},
     "output_type": "execute_result"
    },
    {
     "data": {
      "image/png": "[encoded data removed]",
      "text/plain": [
       "<Figure size 750x750 with 12 Axes>"
      ]
     },
     "metadata": {},
     "output_type": "display_data"
    }
   ],
   "source": [
    "sns.pairplot(correlaciones)"
   ]
  },
  {
   "cell_type": "code",
   "execution_count": 20,
   "id": "0b0b1e09",
   "metadata": {},
   "outputs": [
    {
     "data": {
      "text/plain": [
       "<Axes: >"
      ]
     },
     "execution_count": 20,
     "metadata": {},
     "output_type": "execute_result"
    },
    {
     "data": {
      "image/png": "[encoded data removed]",
      "text/plain": [
       "<Figure size 640x480 with 2 Axes>"
      ]
     },
     "metadata": {},
     "output_type": "display_data"
    }
   ],
   "source": [
    "sns.heatmap(correlaciones.corr(),annot=True)"
   ]
  },
  {
   "cell_type": "markdown",
   "id": "f6f95f2f",
   "metadata": {},
   "source": [
    "### **Respuesta**\n",
    "\n",
    "Según lo observado en el gráfico de pares y el mapa de calor.\n",
    "- Existe una **fuerte relación positiva** entre las visualizaciones y los *likes*, con un coeficiente de 0.81. Además, el gráfico muestra una tendencia clara y ascendente.\n",
    "- La relación entre visualizaciones y comentarios es menor. Aunque hay una conexión, no es tan significativa como la anterior incluso mostrando un gráfico más desordenado y dificil de interpretar.\n",
    "\n",
    "#### Conclusión\n",
    "La característica más relacionada con el aumento de visualizaciones son los **likes**, lo que sugiere que los videos que reciben más *likes* suelen generar un mayor número de visualizaciones."
   ]
  },
  {
   "cell_type": "markdown",
   "id": "93956d2f",
   "metadata": {},
   "source": [
    "### 2. ¿La popularidad de una canción en otras plataformas como Spotify o Last.fm precede a su éxito en YouTube?"
   ]
  },
  {
   "cell_type": "code",
   "execution_count": 22,
   "id": "29a214b0",
   "metadata": {},
   "outputs": [
    {
     "data": {
      "text/plain": [
       "'sp_chile = pd.read_csv(\"data/spotify_chile.csv\")\\nsp_global = pd.read_csv(\"data/spotify_global.csv\")\\nsp_eeuu = pd.read_csv(\"data/spotify_eeuu.csv\")\\nsp_merged = pd.concat([sp_global, sp_eeuu, sp_chile]).drop_duplicates().reset_index(drop=True)\\n\\nlast_chile = pd.read_csv(\"data/last.fm_chile.csv\")\\nlast_global = pd.read_csv(\"data/last.fm_global.csv\")\\nlast_eeuu = pd.read_csv(\"data/last.fm_eeuu.csv\")\\nlast_merged = pd.concat([last_global, last_eeuu, last_chile]).drop_duplicates().reset_index(drop=True)'"
      ]
     },
     "execution_count": 22,
     "metadata": {},
     "output_type": "execute_result"
    }
   ],
   "source": [
    "# Para responder estas preguntas analizaremos cuantos titulos están dentro de los dos dataframes\n",
    "\n",
    "\"\"\"sp_chile = pd.read_csv(\"data/spotify_chile.csv\")\n",
    "sp_global = pd.read_csv(\"data/spotify_global.csv\")\n",
    "sp_eeuu = pd.read_csv(\"data/spotify_eeuu.csv\")\n",
    "sp_merged = pd.concat([sp_global, sp_eeuu, sp_chile]).drop_duplicates().reset_index(drop=True)\n",
    "\n",
    "last_chile = pd.read_csv(\"data/last.fm_chile.csv\")\n",
    "last_global = pd.read_csv(\"data/last.fm_global.csv\")\n",
    "last_eeuu = pd.read_csv(\"data/last.fm_eeuu.csv\")\n",
    "last_merged = pd.concat([last_global, last_eeuu, last_chile]).drop_duplicates().reset_index(drop=True)\"\"\""
   ]
  },
  {
   "cell_type": "code",
   "execution_count": 23,
   "id": "33a2b611",
   "metadata": {},
   "outputs": [
    {
     "data": {
      "text/html": [
       "<div>\n",
       "<style scoped>\n",
       "    .dataframe tbody tr th:only-of-type {\n",
       "        vertical-align: middle;\n",
       "    }\n",
       "\n",
       "    .dataframe tbody tr th {\n",
       "        vertical-align: top;\n",
       "    }\n",
       "\n",
       "    .dataframe thead th {\n",
       "        text-align: right;\n",
       "    }\n",
       "</style>\n",
       "<table border=\"1\" class=\"dataframe\">\n",
       "  <thead>\n",
       "    <tr style=\"text-align: right;\">\n",
       "      <th></th>\n",
       "      <th>Titulo</th>\n",
       "      <th>Vistas</th>\n",
       "      <th>Likes</th>\n",
       "      <th>Comentarios</th>\n",
       "      <th>Fecha</th>\n",
       "      <th>Tags</th>\n",
       "    </tr>\n",
       "  </thead>\n",
       "  <tbody>\n",
       "    <tr>\n",
       "      <th>0</th>\n",
       "      <td>KAROL G, Feid, DFZM ft. Ovy On The Drums, J Ba...</td>\n",
       "      <td>15598352</td>\n",
       "      <td>883849</td>\n",
       "      <td>73874</td>\n",
       "      <td>2024-11-08T00:00:06Z</td>\n",
       "      <td>['#57']</td>\n",
       "    </tr>\n",
       "    <tr>\n",
       "      <th>1</th>\n",
       "      <td>YoungBoy Never Broke Again - Sneaking [Officia...</td>\n",
       "      <td>1029066</td>\n",
       "      <td>75819</td>\n",
       "      <td>3901</td>\n",
       "      <td>2024-11-08T03:41:23Z</td>\n",
       "      <td>[]</td>\n",
       "    </tr>\n",
       "    <tr>\n",
       "      <th>2</th>\n",
       "      <td>YoungBoy Never Broke Again - Killa Season [Off...</td>\n",
       "      <td>1164882</td>\n",
       "      <td>81449</td>\n",
       "      <td>4392</td>\n",
       "      <td>2024-11-08T04:16:17Z</td>\n",
       "      <td>[]</td>\n",
       "    </tr>\n",
       "    <tr>\n",
       "      <th>3</th>\n",
       "      <td>YoungBoy Never Broke Again - Missing Everythin...</td>\n",
       "      <td>1132351</td>\n",
       "      <td>86119</td>\n",
       "      <td>6341</td>\n",
       "      <td>2024-11-08T02:20:12Z</td>\n",
       "      <td>[]</td>\n",
       "    </tr>\n",
       "    <tr>\n",
       "      <th>4</th>\n",
       "      <td>YoungBoy Never Broke Again - Catch Me [Officia...</td>\n",
       "      <td>812399</td>\n",
       "      <td>55568</td>\n",
       "      <td>2963</td>\n",
       "      <td>2024-11-08T02:20:09Z</td>\n",
       "      <td>[]</td>\n",
       "    </tr>\n",
       "  </tbody>\n",
       "</table>\n",
       "</div>"
      ],
      "text/plain": [
       "                                              Titulo    Vistas   Likes  \\\n",
       "0  KAROL G, Feid, DFZM ft. Ovy On The Drums, J Ba...  15598352  883849   \n",
       "1  YoungBoy Never Broke Again - Sneaking [Officia...   1029066   75819   \n",
       "2  YoungBoy Never Broke Again - Killa Season [Off...   1164882   81449   \n",
       "3  YoungBoy Never Broke Again - Missing Everythin...   1132351   86119   \n",
       "4  YoungBoy Never Broke Again - Catch Me [Officia...    812399   55568   \n",
       "\n",
       "   Comentarios                 Fecha     Tags  \n",
       "0        73874  2024-11-08T00:00:06Z  ['#57']  \n",
       "1         3901  2024-11-08T03:41:23Z       []  \n",
       "2         4392  2024-11-08T04:16:17Z       []  \n",
       "3         6341  2024-11-08T02:20:12Z       []  \n",
       "4         2963  2024-11-08T02:20:09Z       []  "
      ]
     },
     "execution_count": 23,
     "metadata": {},
     "output_type": "execute_result"
    }
   ],
   "source": [
    "# Para responder esta pregunta creamos un csv con las canciones en tendencia en spotify buscadas en youtube\n",
    "\n",
    "yt_spotify_1 = pd.read_csv(\"data/videos_spotify_global.csv\")\n",
    "yt_lastf_1 = pd.read_csv(\"data/videos_last.fm_global.csv\")\n",
    "yt_global_1 = pd.read_csv(\"data/videos_global.csv\")\n",
    "yt_global_1.head()"
   ]
  },
  {
   "cell_type": "code",
   "execution_count": 24,
   "id": "a227b89e",
   "metadata": {},
   "outputs": [
    {
     "data": {
      "text/html": [
       "<div>\n",
       "<style scoped>\n",
       "    .dataframe tbody tr th:only-of-type {\n",
       "        vertical-align: middle;\n",
       "    }\n",
       "\n",
       "    .dataframe tbody tr th {\n",
       "        vertical-align: top;\n",
       "    }\n",
       "\n",
       "    .dataframe thead th {\n",
       "        text-align: right;\n",
       "    }\n",
       "</style>\n",
       "<table border=\"1\" class=\"dataframe\">\n",
       "  <thead>\n",
       "    <tr style=\"text-align: right;\">\n",
       "      <th></th>\n",
       "      <th>Titulo</th>\n",
       "    </tr>\n",
       "  </thead>\n",
       "  <tbody>\n",
       "    <tr>\n",
       "      <th>0</th>\n",
       "      <td>St. Chroma</td>\n",
       "    </tr>\n",
       "    <tr>\n",
       "      <th>1</th>\n",
       "      <td>Darling, I</td>\n",
       "    </tr>\n",
       "  </tbody>\n",
       "</table>\n",
       "</div>"
      ],
      "text/plain": [
       "       Titulo\n",
       "0  St. Chroma\n",
       "1  Darling, I"
      ]
     },
     "execution_count": 24,
     "metadata": {},
     "output_type": "execute_result"
    }
   ],
   "source": [
    "# Intersección de la columna 'Titulo'\n",
    "interseccion_titulos = pd.merge(yt_spotify_1[['Titulo']], yt_global_1[['Titulo']], on='Titulo', how='inner')\n",
    "interseccion_titulos.drop_duplicates().reset_index(drop=True)"
   ]
  },
  {
   "cell_type": "code",
   "execution_count": 25,
   "id": "3729a25f",
   "metadata": {},
   "outputs": [
    {
     "data": {
      "text/html": [
       "<div>\n",
       "<style scoped>\n",
       "    .dataframe tbody tr th:only-of-type {\n",
       "        vertical-align: middle;\n",
       "    }\n",
       "\n",
       "    .dataframe tbody tr th {\n",
       "        vertical-align: top;\n",
       "    }\n",
       "\n",
       "    .dataframe thead th {\n",
       "        text-align: right;\n",
       "    }\n",
       "</style>\n",
       "<table border=\"1\" class=\"dataframe\">\n",
       "  <thead>\n",
       "    <tr style=\"text-align: right;\">\n",
       "      <th></th>\n",
       "      <th>Titulo</th>\n",
       "    </tr>\n",
       "  </thead>\n",
       "  <tbody>\n",
       "    <tr>\n",
       "      <th>0</th>\n",
       "      <td>St. Chroma</td>\n",
       "    </tr>\n",
       "    <tr>\n",
       "      <th>1</th>\n",
       "      <td>Darling, I</td>\n",
       "    </tr>\n",
       "    <tr>\n",
       "      <th>2</th>\n",
       "      <td>Sticky</td>\n",
       "    </tr>\n",
       "  </tbody>\n",
       "</table>\n",
       "</div>"
      ],
      "text/plain": [
       "       Titulo\n",
       "0  St. Chroma\n",
       "1  Darling, I\n",
       "2      Sticky"
      ]
     },
     "execution_count": 25,
     "metadata": {},
     "output_type": "execute_result"
    }
   ],
   "source": [
    "# Intersección de la columna 'Titulo'\n",
    "interseccion_titulos = pd.merge(yt_lastf_1[['Titulo']], yt_global_1[['Titulo']], on='Titulo', how='inner')\n",
    "interseccion_titulos.drop_duplicates().reset_index(drop=True)"
   ]
  },
  {
   "cell_type": "code",
   "execution_count": 26,
   "id": "c03b6636",
   "metadata": {},
   "outputs": [
    {
     "data": {
      "text/html": [
       "<div>\n",
       "<style scoped>\n",
       "    .dataframe tbody tr th:only-of-type {\n",
       "        vertical-align: middle;\n",
       "    }\n",
       "\n",
       "    .dataframe tbody tr th {\n",
       "        vertical-align: top;\n",
       "    }\n",
       "\n",
       "    .dataframe thead th {\n",
       "        text-align: right;\n",
       "    }\n",
       "</style>\n",
       "<table border=\"1\" class=\"dataframe\">\n",
       "  <thead>\n",
       "    <tr style=\"text-align: right;\">\n",
       "      <th></th>\n",
       "      <th>Titulo</th>\n",
       "    </tr>\n",
       "  </thead>\n",
       "  <tbody>\n",
       "    <tr>\n",
       "      <th>0</th>\n",
       "      <td>Lady Gaga, Bruno Mars - Die With A Smile (Offi...</td>\n",
       "    </tr>\n",
       "    <tr>\n",
       "      <th>1</th>\n",
       "      <td>Sailor Song</td>\n",
       "    </tr>\n",
       "    <tr>\n",
       "      <th>2</th>\n",
       "      <td>St. Chroma</td>\n",
       "    </tr>\n",
       "    <tr>\n",
       "      <th>3</th>\n",
       "      <td>Billie Eilish, Khalid - lovely</td>\n",
       "    </tr>\n",
       "    <tr>\n",
       "      <th>4</th>\n",
       "      <td>Sabrina Carpenter - Please Please Please (Offi...</td>\n",
       "    </tr>\n",
       "    <tr>\n",
       "      <th>5</th>\n",
       "      <td>ROSÉ &amp; Bruno Mars - APT. (Official Music Video)</td>\n",
       "    </tr>\n",
       "    <tr>\n",
       "      <th>6</th>\n",
       "      <td>Good Luck, Babe!</td>\n",
       "    </tr>\n",
       "    <tr>\n",
       "      <th>7</th>\n",
       "      <td>Wiz Khalifa - See You Again ft. Charlie Puth [...</td>\n",
       "    </tr>\n",
       "    <tr>\n",
       "      <th>8</th>\n",
       "      <td>Sabrina Carpenter - Espresso (Official Video)</td>\n",
       "    </tr>\n",
       "    <tr>\n",
       "      <th>9</th>\n",
       "      <td>Like Him</td>\n",
       "    </tr>\n",
       "    <tr>\n",
       "      <th>10</th>\n",
       "      <td>Darling, I</td>\n",
       "    </tr>\n",
       "    <tr>\n",
       "      <th>11</th>\n",
       "      <td>The Neighbourhood - Sweater Weather (Official ...</td>\n",
       "    </tr>\n",
       "    <tr>\n",
       "      <th>12</th>\n",
       "      <td>Tyler The Creator - Yonkers</td>\n",
       "    </tr>\n",
       "    <tr>\n",
       "      <th>13</th>\n",
       "      <td>Calvin Harris - Slide (Official Audio) ft. Fra...</td>\n",
       "    </tr>\n",
       "    <tr>\n",
       "      <th>14</th>\n",
       "      <td>Mitski - Washing Machine Heart</td>\n",
       "    </tr>\n",
       "  </tbody>\n",
       "</table>\n",
       "</div>"
      ],
      "text/plain": [
       "                                               Titulo\n",
       "0   Lady Gaga, Bruno Mars - Die With A Smile (Offi...\n",
       "1                                         Sailor Song\n",
       "2                                          St. Chroma\n",
       "3                      Billie Eilish, Khalid - lovely\n",
       "4   Sabrina Carpenter - Please Please Please (Offi...\n",
       "5    ROSÉ & Bruno Mars - APT. (Official Music Video)\n",
       "6                                    Good Luck, Babe!\n",
       "7   Wiz Khalifa - See You Again ft. Charlie Puth [...\n",
       "8       Sabrina Carpenter - Espresso (Official Video)\n",
       "9                                            Like Him\n",
       "10                                         Darling, I\n",
       "11  The Neighbourhood - Sweater Weather (Official ...\n",
       "12                        Tyler The Creator - Yonkers\n",
       "13  Calvin Harris - Slide (Official Audio) ft. Fra...\n",
       "14                     Mitski - Washing Machine Heart"
      ]
     },
     "execution_count": 26,
     "metadata": {},
     "output_type": "execute_result"
    }
   ],
   "source": [
    "# Intersección de la columna 'Titulo'\n",
    "interseccion_titulos = pd.merge(yt_spotify_1[['Titulo']], yt_lastf_1[['Titulo']], on='Titulo', how='inner')\n",
    "interseccion_titulos.drop_duplicates().reset_index(drop=True)"
   ]
  },
  {
   "cell_type": "markdown",
   "id": "d02ce833",
   "metadata": {},
   "source": [
    "### **Respuesta** \n",
    "\n",
    "- Al analizar los *dataframes* que cruzan títulos populares en YouTube con Spotify, se observa que **no existe una gran similitud** entre los éxitos de estas plataformas. Esto indica que el éxito en YouTube no se traduce automáticamente en popularidad en Spotify.\n",
    "- De manera similar, los títulos exitosos de YouTube tampoco presentan una conexión significativa con los de Last.fm.\n",
    "\n",
    "#### Conclusión  \n",
    "Aunque no se encontró una relación sólida entre YouTube y las otras plataformas, **sí existe una fuerte similitud** entre los éxitos de Spotify y Last.fm, lo que sugiere una mayor convergencia en los gustos musicales de los usuarios en estas dos plataformas."
   ]
  },
  {
   "cell_type": "markdown",
   "id": "f10b8c09",
   "metadata": {},
   "source": [
    "### 3. ¿Qué géneros musicales generan más interacciones en YouTube, y cómo esto se relaciona con las tendencias de escucha en Spotify?"
   ]
  },
  {
   "cell_type": "code",
   "execution_count": 27,
   "id": "d6262b36",
   "metadata": {},
   "outputs": [],
   "source": [
    "#hacemos lectura del csv a ocupar\n",
    "yt_en_spotify = pd.read_csv(\"data/youtube_en_spotify_global.csv\")"
   ]
  },
  {
   "cell_type": "code",
   "execution_count": 28,
   "id": "c5555c8a",
   "metadata": {},
   "outputs": [
    {
     "data": {
      "text/html": [
       "<div>\n",
       "<style scoped>\n",
       "    .dataframe tbody tr th:only-of-type {\n",
       "        vertical-align: middle;\n",
       "    }\n",
       "\n",
       "    .dataframe tbody tr th {\n",
       "        vertical-align: top;\n",
       "    }\n",
       "\n",
       "    .dataframe thead th {\n",
       "        text-align: right;\n",
       "    }\n",
       "</style>\n",
       "<table border=\"1\" class=\"dataframe\">\n",
       "  <thead>\n",
       "    <tr style=\"text-align: right;\">\n",
       "      <th></th>\n",
       "      <th>Titulo</th>\n",
       "      <th>Vistas</th>\n",
       "      <th>Likes</th>\n",
       "      <th>Comentarios</th>\n",
       "      <th>Fecha</th>\n",
       "      <th>Tags</th>\n",
       "      <th>Artista</th>\n",
       "      <th>Popularidad</th>\n",
       "      <th>Generos</th>\n",
       "    </tr>\n",
       "  </thead>\n",
       "  <tbody>\n",
       "    <tr>\n",
       "      <th>0</th>\n",
       "      <td>KAROL G, Feid, DFZM ft. Ovy On The Drums, J Ba...</td>\n",
       "      <td>15598352</td>\n",
       "      <td>883849</td>\n",
       "      <td>73874</td>\n",
       "      <td>2024-11-08T00:00:06Z</td>\n",
       "      <td>['#57']</td>\n",
       "      <td>KAROL G</td>\n",
       "      <td>84</td>\n",
       "      <td>['reggaeton', 'reggaeton colombiano', 'urbano ...</td>\n",
       "    </tr>\n",
       "    <tr>\n",
       "      <th>1</th>\n",
       "      <td>YoungBoy Never Broke Again - Sneaking</td>\n",
       "      <td>1029066</td>\n",
       "      <td>75819</td>\n",
       "      <td>3901</td>\n",
       "      <td>2024-11-08T03:41:23Z</td>\n",
       "      <td>[]</td>\n",
       "      <td>YoungBoy Never Broke Again</td>\n",
       "      <td>59</td>\n",
       "      <td>['baton rouge rap', 'rap']</td>\n",
       "    </tr>\n",
       "    <tr>\n",
       "      <th>2</th>\n",
       "      <td>YoungBoy Never Broke Again - Killa Season</td>\n",
       "      <td>1164882</td>\n",
       "      <td>81449</td>\n",
       "      <td>4392</td>\n",
       "      <td>2024-11-08T04:16:17Z</td>\n",
       "      <td>[]</td>\n",
       "      <td>YoungBoy Never Broke Again</td>\n",
       "      <td>59</td>\n",
       "      <td>['baton rouge rap', 'rap']</td>\n",
       "    </tr>\n",
       "    <tr>\n",
       "      <th>3</th>\n",
       "      <td>YoungBoy Never Broke Again - Missing Everything</td>\n",
       "      <td>1132351</td>\n",
       "      <td>86119</td>\n",
       "      <td>6341</td>\n",
       "      <td>2024-11-08T02:20:12Z</td>\n",
       "      <td>[]</td>\n",
       "      <td>YoungBoy Never Broke Again</td>\n",
       "      <td>57</td>\n",
       "      <td>['baton rouge rap', 'rap']</td>\n",
       "    </tr>\n",
       "    <tr>\n",
       "      <th>4</th>\n",
       "      <td>YoungBoy Never Broke Again - Catch Me</td>\n",
       "      <td>812399</td>\n",
       "      <td>55568</td>\n",
       "      <td>2963</td>\n",
       "      <td>2024-11-08T02:20:09Z</td>\n",
       "      <td>[]</td>\n",
       "      <td>YoungBoy Never Broke Again</td>\n",
       "      <td>54</td>\n",
       "      <td>['baton rouge rap', 'rap']</td>\n",
       "    </tr>\n",
       "  </tbody>\n",
       "</table>\n",
       "</div>"
      ],
      "text/plain": [
       "                                              Titulo    Vistas   Likes  \\\n",
       "0  KAROL G, Feid, DFZM ft. Ovy On The Drums, J Ba...  15598352  883849   \n",
       "1              YoungBoy Never Broke Again - Sneaking   1029066   75819   \n",
       "2          YoungBoy Never Broke Again - Killa Season   1164882   81449   \n",
       "3    YoungBoy Never Broke Again - Missing Everything   1132351   86119   \n",
       "4              YoungBoy Never Broke Again - Catch Me    812399   55568   \n",
       "\n",
       "   Comentarios                 Fecha     Tags                     Artista  \\\n",
       "0        73874  2024-11-08T00:00:06Z  ['#57']                     KAROL G   \n",
       "1         3901  2024-11-08T03:41:23Z       []  YoungBoy Never Broke Again   \n",
       "2         4392  2024-11-08T04:16:17Z       []  YoungBoy Never Broke Again   \n",
       "3         6341  2024-11-08T02:20:12Z       []  YoungBoy Never Broke Again   \n",
       "4         2963  2024-11-08T02:20:09Z       []  YoungBoy Never Broke Again   \n",
       "\n",
       "   Popularidad                                            Generos  \n",
       "0           84  ['reggaeton', 'reggaeton colombiano', 'urbano ...  \n",
       "1           59                         ['baton rouge rap', 'rap']  \n",
       "2           59                         ['baton rouge rap', 'rap']  \n",
       "3           57                         ['baton rouge rap', 'rap']  \n",
       "4           54                         ['baton rouge rap', 'rap']  "
      ]
     },
     "execution_count": 28,
     "metadata": {},
     "output_type": "execute_result"
    }
   ],
   "source": [
    "#visualizamos el df\n",
    "yt_en_spotify.head()"
   ]
  },
  {
   "cell_type": "code",
   "execution_count": 29,
   "id": "7f351853",
   "metadata": {},
   "outputs": [],
   "source": [
    "#evaluamos de forma distinta las cadenas\n",
    "yt_en_spotify['Generos'] = yt_en_spotify['Generos'].apply(ast.literal_eval)"
   ]
  },
  {
   "cell_type": "code",
   "execution_count": 30,
   "id": "1d84d8fd",
   "metadata": {},
   "outputs": [],
   "source": [
    "df_exploded = yt_en_spotify.explode('Generos')"
   ]
  },
  {
   "cell_type": "code",
   "execution_count": 31,
   "id": "0d41416e",
   "metadata": {},
   "outputs": [
    {
     "data": {
      "text/html": [
       "<div>\n",
       "<style scoped>\n",
       "    .dataframe tbody tr th:only-of-type {\n",
       "        vertical-align: middle;\n",
       "    }\n",
       "\n",
       "    .dataframe tbody tr th {\n",
       "        vertical-align: top;\n",
       "    }\n",
       "\n",
       "    .dataframe thead th {\n",
       "        text-align: right;\n",
       "    }\n",
       "</style>\n",
       "<table border=\"1\" class=\"dataframe\">\n",
       "  <thead>\n",
       "    <tr style=\"text-align: right;\">\n",
       "      <th></th>\n",
       "      <th>Titulo</th>\n",
       "      <th>Vistas</th>\n",
       "      <th>Likes</th>\n",
       "      <th>Comentarios</th>\n",
       "      <th>Fecha</th>\n",
       "      <th>Tags</th>\n",
       "      <th>Artista</th>\n",
       "      <th>Popularidad</th>\n",
       "      <th>Generos</th>\n",
       "    </tr>\n",
       "  </thead>\n",
       "  <tbody>\n",
       "    <tr>\n",
       "      <th>0</th>\n",
       "      <td>KAROL G, Feid, DFZM ft. Ovy On The Drums, J Ba...</td>\n",
       "      <td>15598352</td>\n",
       "      <td>883849</td>\n",
       "      <td>73874</td>\n",
       "      <td>2024-11-08T00:00:06Z</td>\n",
       "      <td>['#57']</td>\n",
       "      <td>KAROL G</td>\n",
       "      <td>84</td>\n",
       "      <td>reggaeton</td>\n",
       "    </tr>\n",
       "    <tr>\n",
       "      <th>0</th>\n",
       "      <td>KAROL G, Feid, DFZM ft. Ovy On The Drums, J Ba...</td>\n",
       "      <td>15598352</td>\n",
       "      <td>883849</td>\n",
       "      <td>73874</td>\n",
       "      <td>2024-11-08T00:00:06Z</td>\n",
       "      <td>['#57']</td>\n",
       "      <td>KAROL G</td>\n",
       "      <td>84</td>\n",
       "      <td>reggaeton colombiano</td>\n",
       "    </tr>\n",
       "    <tr>\n",
       "      <th>0</th>\n",
       "      <td>KAROL G, Feid, DFZM ft. Ovy On The Drums, J Ba...</td>\n",
       "      <td>15598352</td>\n",
       "      <td>883849</td>\n",
       "      <td>73874</td>\n",
       "      <td>2024-11-08T00:00:06Z</td>\n",
       "      <td>['#57']</td>\n",
       "      <td>KAROL G</td>\n",
       "      <td>84</td>\n",
       "      <td>urbano latino</td>\n",
       "    </tr>\n",
       "    <tr>\n",
       "      <th>1</th>\n",
       "      <td>YoungBoy Never Broke Again - Sneaking</td>\n",
       "      <td>1029066</td>\n",
       "      <td>75819</td>\n",
       "      <td>3901</td>\n",
       "      <td>2024-11-08T03:41:23Z</td>\n",
       "      <td>[]</td>\n",
       "      <td>YoungBoy Never Broke Again</td>\n",
       "      <td>59</td>\n",
       "      <td>baton rouge rap</td>\n",
       "    </tr>\n",
       "    <tr>\n",
       "      <th>1</th>\n",
       "      <td>YoungBoy Never Broke Again - Sneaking</td>\n",
       "      <td>1029066</td>\n",
       "      <td>75819</td>\n",
       "      <td>3901</td>\n",
       "      <td>2024-11-08T03:41:23Z</td>\n",
       "      <td>[]</td>\n",
       "      <td>YoungBoy Never Broke Again</td>\n",
       "      <td>59</td>\n",
       "      <td>rap</td>\n",
       "    </tr>\n",
       "  </tbody>\n",
       "</table>\n",
       "</div>"
      ],
      "text/plain": [
       "                                              Titulo    Vistas   Likes  \\\n",
       "0  KAROL G, Feid, DFZM ft. Ovy On The Drums, J Ba...  15598352  883849   \n",
       "0  KAROL G, Feid, DFZM ft. Ovy On The Drums, J Ba...  15598352  883849   \n",
       "0  KAROL G, Feid, DFZM ft. Ovy On The Drums, J Ba...  15598352  883849   \n",
       "1              YoungBoy Never Broke Again - Sneaking   1029066   75819   \n",
       "1              YoungBoy Never Broke Again - Sneaking   1029066   75819   \n",
       "\n",
       "   Comentarios                 Fecha     Tags                     Artista  \\\n",
       "0        73874  2024-11-08T00:00:06Z  ['#57']                     KAROL G   \n",
       "0        73874  2024-11-08T00:00:06Z  ['#57']                     KAROL G   \n",
       "0        73874  2024-11-08T00:00:06Z  ['#57']                     KAROL G   \n",
       "1         3901  2024-11-08T03:41:23Z       []  YoungBoy Never Broke Again   \n",
       "1         3901  2024-11-08T03:41:23Z       []  YoungBoy Never Broke Again   \n",
       "\n",
       "   Popularidad               Generos  \n",
       "0           84             reggaeton  \n",
       "0           84  reggaeton colombiano  \n",
       "0           84         urbano latino  \n",
       "1           59       baton rouge rap  \n",
       "1           59                   rap  "
      ]
     },
     "execution_count": 31,
     "metadata": {},
     "output_type": "execute_result"
    }
   ],
   "source": [
    "df_exploded.head()"
   ]
  },
  {
   "cell_type": "code",
   "execution_count": 32,
   "id": "2180df3f",
   "metadata": {},
   "outputs": [],
   "source": [
    "df_exploded[\"Cantidad\"] = 1"
   ]
  },
  {
   "cell_type": "code",
   "execution_count": 33,
   "id": "4477b354",
   "metadata": {},
   "outputs": [],
   "source": [
    "#agrupamos segun el tipo de genero que son para saber su cantidad\n",
    "df_generos = df_exploded[[\"Generos\", \"Cantidad\"]].groupby('Generos').sum().reset_index()"
   ]
  },
  {
   "cell_type": "code",
   "execution_count": 34,
   "id": "cc62d0ba",
   "metadata": {},
   "outputs": [
    {
     "data": {
      "text/html": [
       "<div>\n",
       "<style scoped>\n",
       "    .dataframe tbody tr th:only-of-type {\n",
       "        vertical-align: middle;\n",
       "    }\n",
       "\n",
       "    .dataframe tbody tr th {\n",
       "        vertical-align: top;\n",
       "    }\n",
       "\n",
       "    .dataframe thead th {\n",
       "        text-align: right;\n",
       "    }\n",
       "</style>\n",
       "<table border=\"1\" class=\"dataframe\">\n",
       "  <thead>\n",
       "    <tr style=\"text-align: right;\">\n",
       "      <th></th>\n",
       "      <th>Generos</th>\n",
       "      <th>Cantidad</th>\n",
       "    </tr>\n",
       "  </thead>\n",
       "  <tbody>\n",
       "    <tr>\n",
       "      <th>0</th>\n",
       "      <td>5th gen k-pop</td>\n",
       "      <td>1</td>\n",
       "    </tr>\n",
       "    <tr>\n",
       "      <th>1</th>\n",
       "      <td>atl hip hop</td>\n",
       "      <td>1</td>\n",
       "    </tr>\n",
       "    <tr>\n",
       "      <th>2</th>\n",
       "      <td>baton rouge rap</td>\n",
       "      <td>7</td>\n",
       "    </tr>\n",
       "    <tr>\n",
       "      <th>3</th>\n",
       "      <td>bc underground hip hop</td>\n",
       "      <td>1</td>\n",
       "    </tr>\n",
       "    <tr>\n",
       "      <th>4</th>\n",
       "      <td>canadian hip hop</td>\n",
       "      <td>1</td>\n",
       "    </tr>\n",
       "    <tr>\n",
       "      <th>5</th>\n",
       "      <td>ccm</td>\n",
       "      <td>1</td>\n",
       "    </tr>\n",
       "    <tr>\n",
       "      <th>6</th>\n",
       "      <td>corrido</td>\n",
       "      <td>2</td>\n",
       "    </tr>\n",
       "    <tr>\n",
       "      <th>7</th>\n",
       "      <td>corridos tumbados</td>\n",
       "      <td>1</td>\n",
       "    </tr>\n",
       "    <tr>\n",
       "      <th>8</th>\n",
       "      <td>country rap</td>\n",
       "      <td>1</td>\n",
       "    </tr>\n",
       "    <tr>\n",
       "      <th>9</th>\n",
       "      <td>dembow</td>\n",
       "      <td>1</td>\n",
       "    </tr>\n",
       "  </tbody>\n",
       "</table>\n",
       "</div>"
      ],
      "text/plain": [
       "                  Generos  Cantidad\n",
       "0           5th gen k-pop         1\n",
       "1             atl hip hop         1\n",
       "2         baton rouge rap         7\n",
       "3  bc underground hip hop         1\n",
       "4        canadian hip hop         1\n",
       "5                     ccm         1\n",
       "6                 corrido         2\n",
       "7       corridos tumbados         1\n",
       "8             country rap         1\n",
       "9                  dembow         1"
      ]
     },
     "execution_count": 34,
     "metadata": {},
     "output_type": "execute_result"
    }
   ],
   "source": [
    "#visualizamos la informacion y vemos que aun existen generos que se podrian agrupar más\n",
    "df_generos.head(10)"
   ]
  },
  {
   "cell_type": "code",
   "execution_count": 35,
   "id": "5deb3c9c",
   "metadata": {},
   "outputs": [],
   "source": [
    "def categorizar_genero(genero):\n",
    "    if 'pop' in genero:\n",
    "        return 'Pop'\n",
    "    elif 'rap' in genero:\n",
    "        return 'Rap'\n",
    "    elif 'reggaeton' in genero:\n",
    "        return 'Reggaeton'\n",
    "    elif 'corrido' in genero:\n",
    "        return 'Corridos'\n",
    "    elif 'worship' in genero or 'ccm' in genero:\n",
    "        return 'Religioso'\n",
    "    elif 'rock' in genero:\n",
    "        return 'Rock'\n",
    "    elif 'hip hop' in genero:\n",
    "        return 'Hip Hop'\n",
    "    elif 'jazz' in genero:\n",
    "        return 'Jazz'\n",
    "    elif 'blues' in genero:\n",
    "        return 'Blues'\n",
    "    elif \"Urbano\" in genero:\n",
    "        return 'Urbano'\n",
    "    elif \"salsa\" in genero:\n",
    "        return 'Salsa'\n",
    "    elif \"trap\" in genero:\n",
    "        return 'Trap'\n",
    "    elif \"country\" in genero:\n",
    "        return 'Country'\n",
    "    elif \"indie\" in genero:\n",
    "        return 'Indie'\n",
    "    elif \"r&b\" in genero:\n",
    "        return 'r&b'\n",
    "    elif \"singer-songwriter\" in genero:\n",
    "        return 'singer-songwriter'\n",
    "    elif \"soul\" in genero:\n",
    "        return 'singer-songwriter'\n",
    "    elif \"romantic\" in genero:\n",
    "        return 'romantic'\n",
    "    elif \"wave\" in genero:\n",
    "        return 'wave'\n",
    "    elif \"contemporary\" in genero:\n",
    "        return 'contemporary'\n",
    "    else:\n",
    "        return genero\n",
    "#es por esto que creamos una funcion que agrupe de mejor forma los generos\n",
    "df_generos['Categoria'] = df_generos['Generos'].apply(categorizar_genero)"
   ]
  },
  {
   "cell_type": "code",
   "execution_count": 36,
   "id": "22e64b67",
   "metadata": {},
   "outputs": [],
   "source": [
    "df_categoria = df_generos[[\"Categoria\", \"Cantidad\"]].groupby('Categoria').sum().reset_index()"
   ]
  },
  {
   "cell_type": "code",
   "execution_count": 37,
   "id": "959de40c",
   "metadata": {},
   "outputs": [
    {
     "data": {
      "text/html": [
       "<div>\n",
       "<style scoped>\n",
       "    .dataframe tbody tr th:only-of-type {\n",
       "        vertical-align: middle;\n",
       "    }\n",
       "\n",
       "    .dataframe tbody tr th {\n",
       "        vertical-align: top;\n",
       "    }\n",
       "\n",
       "    .dataframe thead th {\n",
       "        text-align: right;\n",
       "    }\n",
       "</style>\n",
       "<table border=\"1\" class=\"dataframe\">\n",
       "  <thead>\n",
       "    <tr style=\"text-align: right;\">\n",
       "      <th></th>\n",
       "      <th>Categoria</th>\n",
       "      <th>Cantidad</th>\n",
       "    </tr>\n",
       "  </thead>\n",
       "  <tbody>\n",
       "    <tr>\n",
       "      <th>0</th>\n",
       "      <td>Corridos</td>\n",
       "      <td>3</td>\n",
       "    </tr>\n",
       "    <tr>\n",
       "      <th>1</th>\n",
       "      <td>Hip Hop</td>\n",
       "      <td>9</td>\n",
       "    </tr>\n",
       "    <tr>\n",
       "      <th>2</th>\n",
       "      <td>Pop</td>\n",
       "      <td>4</td>\n",
       "    </tr>\n",
       "    <tr>\n",
       "      <th>3</th>\n",
       "      <td>Rap</td>\n",
       "      <td>32</td>\n",
       "    </tr>\n",
       "    <tr>\n",
       "      <th>4</th>\n",
       "      <td>Reggaeton</td>\n",
       "      <td>3</td>\n",
       "    </tr>\n",
       "    <tr>\n",
       "      <th>5</th>\n",
       "      <td>Religioso</td>\n",
       "      <td>2</td>\n",
       "    </tr>\n",
       "    <tr>\n",
       "      <th>6</th>\n",
       "      <td>Rock</td>\n",
       "      <td>1</td>\n",
       "    </tr>\n",
       "    <tr>\n",
       "      <th>7</th>\n",
       "      <td>contemporary</td>\n",
       "      <td>1</td>\n",
       "    </tr>\n",
       "    <tr>\n",
       "      <th>8</th>\n",
       "      <td>dembow</td>\n",
       "      <td>1</td>\n",
       "    </tr>\n",
       "    <tr>\n",
       "      <th>9</th>\n",
       "      <td>florida drill</td>\n",
       "      <td>2</td>\n",
       "    </tr>\n",
       "    <tr>\n",
       "      <th>10</th>\n",
       "      <td>r&amp;b</td>\n",
       "      <td>1</td>\n",
       "    </tr>\n",
       "    <tr>\n",
       "      <th>11</th>\n",
       "      <td>sad sierreno</td>\n",
       "      <td>1</td>\n",
       "    </tr>\n",
       "    <tr>\n",
       "      <th>12</th>\n",
       "      <td>sierreno</td>\n",
       "      <td>1</td>\n",
       "    </tr>\n",
       "    <tr>\n",
       "      <th>13</th>\n",
       "      <td>urbano latino</td>\n",
       "      <td>3</td>\n",
       "    </tr>\n",
       "  </tbody>\n",
       "</table>\n",
       "</div>"
      ],
      "text/plain": [
       "        Categoria  Cantidad\n",
       "0        Corridos         3\n",
       "1         Hip Hop         9\n",
       "2             Pop         4\n",
       "3             Rap        32\n",
       "4       Reggaeton         3\n",
       "5       Religioso         2\n",
       "6            Rock         1\n",
       "7    contemporary         1\n",
       "8          dembow         1\n",
       "9   florida drill         2\n",
       "10            r&b         1\n",
       "11   sad sierreno         1\n",
       "12       sierreno         1\n",
       "13  urbano latino         3"
      ]
     },
     "execution_count": 37,
     "metadata": {},
     "output_type": "execute_result"
    }
   ],
   "source": [
    "df_categoria"
   ]
  },
  {
   "cell_type": "code",
   "execution_count": 38,
   "id": "fccc42a8",
   "metadata": {},
   "outputs": [
    {
     "data": {
      "image/png": "[encoded data removed]",
      "text/plain": [
       "<Figure size 2500x600 with 1 Axes>"
      ]
     },
     "metadata": {},
     "output_type": "display_data"
    }
   ],
   "source": [
    "## Gráfico\n",
    "#creamos el gráfico de barras para poder visualizar la información\n",
    "fig = plt.figure(figsize=(25,6)) #crear la figura y dimension\n",
    "ax = fig.add_subplot(111)\n",
    "sns.barplot(data=df_categoria, x='Categoria', y='Cantidad', color='pink')\n",
    "plt.title(\"Cantidad agrupada por genero en Youtube\")\n",
    "plt.show()\n"
   ]
  },
  {
   "cell_type": "code",
   "execution_count": 40,
   "id": "a2555bfd",
   "metadata": {},
   "outputs": [
    {
     "data": {
      "text/html": [
       "<div>\n",
       "<style scoped>\n",
       "    .dataframe tbody tr th:only-of-type {\n",
       "        vertical-align: middle;\n",
       "    }\n",
       "\n",
       "    .dataframe tbody tr th {\n",
       "        vertical-align: top;\n",
       "    }\n",
       "\n",
       "    .dataframe thead th {\n",
       "        text-align: right;\n",
       "    }\n",
       "</style>\n",
       "<table border=\"1\" class=\"dataframe\">\n",
       "  <thead>\n",
       "    <tr style=\"text-align: right;\">\n",
       "      <th></th>\n",
       "      <th>Titulo</th>\n",
       "      <th>Artista</th>\n",
       "      <th>Popularidad</th>\n",
       "      <th>Generos</th>\n",
       "    </tr>\n",
       "  </thead>\n",
       "  <tbody>\n",
       "    <tr>\n",
       "      <th>0</th>\n",
       "      <td>That’s So True</td>\n",
       "      <td>Gracie Abrams</td>\n",
       "      <td>91</td>\n",
       "      <td>['alt z']</td>\n",
       "    </tr>\n",
       "    <tr>\n",
       "      <th>1</th>\n",
       "      <td>Die With A Smile</td>\n",
       "      <td>Lady Gaga</td>\n",
       "      <td>100</td>\n",
       "      <td>['art pop', 'dance pop', 'pop']</td>\n",
       "    </tr>\n",
       "    <tr>\n",
       "      <th>2</th>\n",
       "      <td>Sailor Song</td>\n",
       "      <td>Gigi Perez</td>\n",
       "      <td>93</td>\n",
       "      <td>['bedroom pop']</td>\n",
       "    </tr>\n",
       "    <tr>\n",
       "      <th>3</th>\n",
       "      <td>Sticky (feat. GloRilla, Sexyy Red &amp; Lil Wayne)</td>\n",
       "      <td>Tyler, The Creator</td>\n",
       "      <td>87</td>\n",
       "      <td>['hip hop', 'rap']</td>\n",
       "    </tr>\n",
       "    <tr>\n",
       "      <th>4</th>\n",
       "      <td>St. Chroma (feat. Daniel Caesar)</td>\n",
       "      <td>Tyler, The Creator</td>\n",
       "      <td>89</td>\n",
       "      <td>['hip hop', 'rap']</td>\n",
       "    </tr>\n",
       "  </tbody>\n",
       "</table>\n",
       "</div>"
      ],
      "text/plain": [
       "                                           Titulo             Artista  \\\n",
       "0                                  That’s So True       Gracie Abrams   \n",
       "1                                Die With A Smile           Lady Gaga   \n",
       "2                                     Sailor Song          Gigi Perez   \n",
       "3  Sticky (feat. GloRilla, Sexyy Red & Lil Wayne)  Tyler, The Creator   \n",
       "4                St. Chroma (feat. Daniel Caesar)  Tyler, The Creator   \n",
       "\n",
       "   Popularidad                          Generos  \n",
       "0           91                        ['alt z']  \n",
       "1          100  ['art pop', 'dance pop', 'pop']  \n",
       "2           93                  ['bedroom pop']  \n",
       "3           87               ['hip hop', 'rap']  \n",
       "4           89               ['hip hop', 'rap']  "
      ]
     },
     "execution_count": 40,
     "metadata": {},
     "output_type": "execute_result"
    }
   ],
   "source": []
  },
  {
   "cell_type": "code",
   "execution_count": 41,
   "id": "0ef2fb27",
   "metadata": {},
   "outputs": [
    {
     "data": {
      "text/plain": [
       "0                                               [alt z]\n",
       "1                             [art pop, dance pop, pop]\n",
       "2                                         [bedroom pop]\n",
       "3                                        [hip hop, rap]\n",
       "4                                        [hip hop, rap]\n",
       "5                                        [art pop, pop]\n",
       "6                                               [k-pop]\n",
       "7                                                 [pop]\n",
       "8                                               [k-pop]\n",
       "9        [canadian contemporary r&b, canadian pop, pop]\n",
       "10                                          [indie pop]\n",
       "11                                       [art pop, pop]\n",
       "12                                       [hip hop, rap]\n",
       "13                                              [alt z]\n",
       "14                                                [pop]\n",
       "15                                       [hip hop, rap]\n",
       "16                                       [hip hop, rap]\n",
       "17                        [modern country pop, pop rap]\n",
       "18                                            [corrido]\n",
       "19                               [contemporary country]\n",
       "20                     [dfw rap, melodic rap, pop, rap]\n",
       "21                                       [hip hop, rap]\n",
       "22                                                [pop]\n",
       "23                                          [indie pop]\n",
       "24                              [singer-songwriter pop]\n",
       "25                              [bedroom pop, la indie]\n",
       "26                                                [pop]\n",
       "27                                          [indie pop]\n",
       "28                                       [hip hop, rap]\n",
       "29                  [pov: indie, singer-songwriter pop]\n",
       "30          [modern alternative rock, modern rock, pop]\n",
       "31                                                   []\n",
       "32                           [classic oklahoma country]\n",
       "33                                 [australian hip hop]\n",
       "34                           [classic oklahoma country]\n",
       "35                           [classic oklahoma country]\n",
       "36    [conscious hip hop, hip hop, rap, west coast rap]\n",
       "37                                       [hip hop, rap]\n",
       "38                           [classic oklahoma country]\n",
       "39                                                [pop]\n",
       "40                             [chill abstract hip hop]\n",
       "41                 [dance pop, pop, urban contemporary]\n",
       "42                           [lgbtq+ hip hop, neo soul]\n",
       "43                                                [rap]\n",
       "44    [irish singer-songwriter, modern rock, pop, po...\n",
       "45                           [classic oklahoma country]\n",
       "46    [new romantic, new wave, new wave pop, soft rock]\n",
       "47                              [singer-songwriter pop]\n",
       "48                                            [corrido]\n",
       "49                         [brooklyn indie, pov: indie]\n",
       "Name: Generos, dtype: object"
      ]
     },
     "execution_count": 41,
     "metadata": {},
     "output_type": "execute_result"
    }
   ],
   "source": []
  },
  {
   "cell_type": "code",
   "execution_count": 46,
   "id": "187e01e1",
   "metadata": {},
   "outputs": [
    {
     "data": {
      "text/html": [
       "<div>\n",
       "<style scoped>\n",
       "    .dataframe tbody tr th:only-of-type {\n",
       "        vertical-align: middle;\n",
       "    }\n",
       "\n",
       "    .dataframe tbody tr th {\n",
       "        vertical-align: top;\n",
       "    }\n",
       "\n",
       "    .dataframe thead th {\n",
       "        text-align: right;\n",
       "    }\n",
       "</style>\n",
       "<table border=\"1\" class=\"dataframe\">\n",
       "  <thead>\n",
       "    <tr style=\"text-align: right;\">\n",
       "      <th></th>\n",
       "      <th>Categoria</th>\n",
       "      <th>Cantidad</th>\n",
       "    </tr>\n",
       "  </thead>\n",
       "  <tbody>\n",
       "    <tr>\n",
       "      <th>0</th>\n",
       "      <td>Corridos</td>\n",
       "      <td>2</td>\n",
       "    </tr>\n",
       "    <tr>\n",
       "      <th>1</th>\n",
       "      <td>Country</td>\n",
       "      <td>6</td>\n",
       "    </tr>\n",
       "    <tr>\n",
       "      <th>2</th>\n",
       "      <td>Hip Hop</td>\n",
       "      <td>13</td>\n",
       "    </tr>\n",
       "    <tr>\n",
       "      <th>3</th>\n",
       "      <td>Indie</td>\n",
       "      <td>5</td>\n",
       "    </tr>\n",
       "    <tr>\n",
       "      <th>4</th>\n",
       "      <td>Pop</td>\n",
       "      <td>32</td>\n",
       "    </tr>\n",
       "    <tr>\n",
       "      <th>5</th>\n",
       "      <td>Rap</td>\n",
       "      <td>14</td>\n",
       "    </tr>\n",
       "    <tr>\n",
       "      <th>6</th>\n",
       "      <td>Rock</td>\n",
       "      <td>4</td>\n",
       "    </tr>\n",
       "    <tr>\n",
       "      <th>7</th>\n",
       "      <td>alt z</td>\n",
       "      <td>2</td>\n",
       "    </tr>\n",
       "    <tr>\n",
       "      <th>8</th>\n",
       "      <td>contemporary</td>\n",
       "      <td>1</td>\n",
       "    </tr>\n",
       "    <tr>\n",
       "      <th>9</th>\n",
       "      <td>r&amp;b</td>\n",
       "      <td>1</td>\n",
       "    </tr>\n",
       "    <tr>\n",
       "      <th>10</th>\n",
       "      <td>romantic</td>\n",
       "      <td>1</td>\n",
       "    </tr>\n",
       "    <tr>\n",
       "      <th>11</th>\n",
       "      <td>singer-songwriter</td>\n",
       "      <td>2</td>\n",
       "    </tr>\n",
       "    <tr>\n",
       "      <th>12</th>\n",
       "      <td>wave</td>\n",
       "      <td>1</td>\n",
       "    </tr>\n",
       "  </tbody>\n",
       "</table>\n",
       "</div>"
      ],
      "text/plain": [
       "            Categoria  Cantidad\n",
       "0            Corridos         2\n",
       "1             Country         6\n",
       "2             Hip Hop        13\n",
       "3               Indie         5\n",
       "4                 Pop        32\n",
       "5                 Rap        14\n",
       "6                Rock         4\n",
       "7               alt z         2\n",
       "8        contemporary         1\n",
       "9                 r&b         1\n",
       "10           romantic         1\n",
       "11  singer-songwriter         2\n",
       "12               wave         1"
      ]
     },
     "execution_count": 46,
     "metadata": {},
     "output_type": "execute_result"
    }
   ],
   "source": [
    "#hacemos el mismo mecanismo con la plataforma spotify\n",
    "spotify_glo = pd.read_csv(\"data/spotify_global.csv\")\n",
    "spotify_glo.head()\n",
    "\n",
    "\n",
    "spotify_glo['Generos'] = spotify_glo['Generos'].apply(ast.literal_eval)\n",
    "spotify_glo['Generos']\n",
    "\n",
    "\n",
    "df_exploracion = spotify_glo.explode('Generos')\n",
    "df_exploracion[\"Cantidad\"] = 1\n",
    "df_genero = df_exploracion[[\"Generos\", \"Cantidad\"]].groupby('Generos').sum().reset_index()\n",
    "df_genero\n",
    "\n",
    "def categorizar_genero(genero):\n",
    "    if 'pop' in genero:\n",
    "        return 'Pop'\n",
    "    elif 'rap' in genero:\n",
    "        return 'Rap'\n",
    "    elif 'reggaeton' in genero:\n",
    "        return 'Reggaeton'\n",
    "    elif 'corrido' in genero:\n",
    "        return 'Corridos'\n",
    "    elif 'worship' in genero or 'ccm' in genero:\n",
    "        return 'Religioso'\n",
    "    elif 'rock' in genero:\n",
    "        return 'Rock'\n",
    "    elif 'hip hop' in genero:\n",
    "        return 'Hip Hop'\n",
    "    elif 'jazz' in genero:\n",
    "        return 'Jazz'\n",
    "    elif 'blues' in genero:\n",
    "        return 'Blues'\n",
    "    elif \"Urbano\" in genero:\n",
    "        return 'Urbano'\n",
    "    elif \"salsa\" in genero:\n",
    "        return 'Salsa'\n",
    "    elif \"trap\" in genero:\n",
    "        return 'Trap'\n",
    "    elif \"country\" in genero:\n",
    "        return 'Country'\n",
    "    elif \"indie\" in genero:\n",
    "        return 'Indie'\n",
    "    elif \"r&b\" in genero:\n",
    "        return 'r&b'\n",
    "    elif \"singer-songwriter\" in genero:\n",
    "        return 'singer-songwriter'\n",
    "    elif \"soul\" in genero:\n",
    "        return 'singer-songwriter'\n",
    "    elif \"romantic\" in genero:\n",
    "        return 'romantic'\n",
    "    elif \"wave\" in genero:\n",
    "        return 'wave'\n",
    "    elif \"contemporary\" in genero:\n",
    "        return 'contemporary'\n",
    "    else:\n",
    "        return genero\n",
    "\n",
    "df_genero['Categoria'] = df_genero['Generos'].apply(categorizar_genero)\n",
    "\n",
    "df_category = df_genero[[\"Categoria\", \"Cantidad\"]].groupby('Categoria').sum().reset_index()\n",
    "df_category\n",
    "        "
   ]
  },
  {
   "cell_type": "code",
   "execution_count": 47,
   "id": "091d20a4",
   "metadata": {},
   "outputs": [
    {
     "data": {
      "image/png": "[encoded data removed]",
      "text/plain": [
       "<Figure size 2500x600 with 1 Axes>"
      ]
     },
     "metadata": {},
     "output_type": "display_data"
    }
   ],
   "source": [
    "## Gráfico\n",
    "#creamos el gráfico de barras para poder visualizar la información\n",
    "fig = plt.figure(figsize=(25,6)) #crear la figura y dimension\n",
    "ax = fig.add_subplot(111)\n",
    "sns.barplot(data=df_category, x='Categoria', y='Cantidad', color='pink')\n",
    "plt.title(\"Cantidad agrupada por genero en Spotify\")\n",
    "plt.show()"
   ]
  },
  {
   "cell_type": "markdown",
   "id": "86f1ffc6",
   "metadata": {},
   "source": [
    "### **Respuesta**  \n",
    "Los géneros más populares en YouTube son: **Rap**, **Hip Hop** y **Pop**. Estas tendencias también se reflejan en Spotify, ya que los mismos géneros ocupan los primeros lugares en interacción. Sin embargo, el **orden de popularidad varía** entre ambas plataformas.\n",
    "\n",
    "#### Conclusión  \n",
    "Las preferencias de los usuarios en YouTube tienen un impacto claro en los géneros más escuchados en Spotify, demostrando una conexión entre ambas plataformas en cuanto a tendencias musicales."
   ]
  }
 ],
 "metadata": {
  "kernelspec": {
   "display_name": "intro_cd (3.13.5)",
   "language": "python",
   "name": "python3"
  },
  "language_info": {
   "codemirror_mode": {
    "name": "ipython",
    "version": 3
   },
   "file_extension": ".py",
   "mimetype": "text/x-python",
   "name": "python",
   "nbconvert_exporter": "python",
   "pygments_lexer": "ipython3",
   "version": "3.13.5"
  }
 },
 "nbformat": 4,
 "nbformat_minor": 5
}
