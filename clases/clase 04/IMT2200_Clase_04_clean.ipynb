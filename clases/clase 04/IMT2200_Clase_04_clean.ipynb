{
 "cells": [
  {
   "cell_type": "markdown",
   "metadata": {},
   "source": [
    "# <img style=\"float: left; padding-right: 20px; width: 200px\" src=\"https://raw.githubusercontent.com/raxlab/imt2200-data/main/media/logo.jpg\">  IMT 2200 - Introducción a Ciencia de Datos\n",
    "**Pontificia Universidad Católica de Chile**<br>\n",
    "**Instituto de Ingeniería Matemática y Computacional**<br>\n",
    "**Semestre 2025-S2**<br>\n",
    "**Profesor:** Rodrigo A. Carrasco <br>\n",
    "---"
   ]
  },
  {
   "cell_type": "markdown",
   "metadata": {},
   "source": [
    "# <h1><center>Clase 04: Trabajo con Datos Semi Estructurados</center></h1>\n",
    "\n",
    "Este ejercicio busca que los estudiantes aprendan a usar librerias en Python para la gestión y exploración de datos semi estructurados."
   ]
  },
  {
   "cell_type": "markdown",
   "metadata": {},
   "source": [
    "## 1. Datos para los ejemplos\n",
    "\n",
    "Usaremos dos conjuntos de datos para este Notebook:\n",
    "<ol>\n",
    "<li>Datos de Yelp sobre restaurantes de Santiago:</li>\n",
    "    \n",
    "Estos datos fueron proporcionados por la profesora Paula Aguirre y están en el archivo `restaurants.json` en la carpeta de `data`.\n",
    "\n",
    "    \n",
    "<li>Datos de conciertos de la Filarmónica de NY:</li>\n",
    "\n",
    "La orquesta filarmónica de Nueva York, ha puesto a disposición del público los datos de las más de 20,000 presentaciones que han hecho desde el 7 de diciembre de 1842, contando con una base de más de 180 años de presentaciones. \n",
    "    \n",
    "La base de datos original puede ser accedida en forma interactiva en https://archives.nyphil.org/performancehistory/#program.op y la base completa está disponible en el sitio de GitHub de la Filarmónica: https://github.com/nyphilarchive/PerformanceHistory\n",
    "</ol>"
   ]
  },
  {
   "cell_type": "markdown",
   "metadata": {},
   "source": [
    "## 2. Manipulación de datos en formato json\n",
    "\n",
    "Uno de los formatos preferidos para datos semi estructurados es el formato json. Python cuenta con una libraría especial para trabajar con este tipo de formato: https://docs.python.org/3/library/json.html y nos permite leer y escribir en este formato entre otras cosas.\n",
    "\n",
    "A continuación cargaremos las librerías necesarias para este ejercicio."
   ]
  },
  {
   "cell_type": "code",
   "execution_count": 1,
   "metadata": {},
   "outputs": [],
   "source": [
    "import matplotlib.pyplot as plt \n",
    "import numpy as np\n",
    "import pandas as pd\n",
    "import json"
   ]
  },
  {
   "cell_type": "code",
   "execution_count": 2,
   "metadata": {},
   "outputs": [
    {
     "name": "stdout",
     "output_type": "stream",
     "text": [
      "C:\\Users\\const\\OneDrive\\Documentos\\Clase IMT2200-25s2\\clases\\clase 04\\data\n"
     ]
    }
   ],
   "source": [
    "%cd data"
   ]
  },
  {
   "cell_type": "markdown",
   "metadata": {},
   "source": [
    "## 3. Introducción a json\n",
    "\n",
    "### 3.1 Creando un set de datos simple\n",
    "\n",
    "Armemos una lista de curso de alumnos en la universidad por generación, incporporando datos adicionales, como profesores y notas cuando estén estas disponibles. Comenzaremos con un `list` en Python para almacenar cada generación.\n",
    "\n",
    "#hace un json manualmente"
   ]
  },
  {
   "cell_type": "code",
   "execution_count": 3,
   "metadata": {},
   "outputs": [],
   "source": [
    "json_list = [\n",
    "    { \n",
    "        'class': 'Year 1', \n",
    "        'student count': 35, \n",
    "        'room': 'A2',\n",
    "        'info': {\n",
    "            'teachers': { \n",
    "                'math': 'Emmy Noether', \n",
    "                'physics': 'Richard Feynman' \n",
    "            }\n",
    "        },\n",
    "        'students': [\n",
    "            { \n",
    "                'name': 'Mary', \n",
    "                'sex': 'F', \n",
    "                'grades': { 'math': 75, 'physics': 98 } \n",
    "            },\n",
    "            { \n",
    "                'name': 'James', \n",
    "                'sex': 'M', \n",
    "                'grades': { 'math': 80, 'physics': 78 } \n",
    "            },\n",
    "        ]\n",
    "    },\n",
    "    { \n",
    "        'class': 'Year 2', \n",
    "        'student count': 28, \n",
    "        'room': 'A4',\n",
    "        'info': {\n",
    "            'teachers': { \n",
    "                'math': 'Alan Turing', \n",
    "                'physics': 'Vera Rubin' \n",
    "            }\n",
    "        },\n",
    "        'students': [\n",
    "            { 'name': 'Tony', 'sex': 'M' },\n",
    "            { 'name': 'Jacqueline', 'sex': 'F' },\n",
    "        ]\n",
    "    },\n",
    "]"
   ]
  },
  {
   "cell_type": "code",
   "execution_count": 4,
   "metadata": {},
   "outputs": [
    {
     "data": {
      "text/plain": [
       "{'class': 'Year 1',\n",
       " 'student count': 35,\n",
       " 'room': 'A2',\n",
       " 'info': {'teachers': {'math': 'Emmy Noether', 'physics': 'Richard Feynman'}},\n",
       " 'students': [{'name': 'Mary',\n",
       "   'sex': 'F',\n",
       "   'grades': {'math': 75, 'physics': 98}},\n",
       "  {'name': 'James', 'sex': 'M', 'grades': {'math': 80, 'physics': 78}}]}"
      ]
     },
     "execution_count": 4,
     "metadata": {},
     "output_type": "execute_result"
    }
   ],
   "source": [
    "json_list[0]"
   ]
  },
  {
   "cell_type": "code",
   "execution_count": 5,
   "metadata": {},
   "outputs": [
    {
     "data": {
      "text/plain": [
       "dict_keys(['class', 'student count', 'room', 'info', 'students'])"
      ]
     },
     "execution_count": 5,
     "metadata": {},
     "output_type": "execute_result"
    }
   ],
   "source": [
    "json_list[0].keys()"
   ]
  },
  {
   "cell_type": "code",
   "execution_count": 6,
   "metadata": {},
   "outputs": [
    {
     "data": {
      "text/plain": [
       "'Year 1'"
      ]
     },
     "execution_count": 6,
     "metadata": {},
     "output_type": "execute_result"
    }
   ],
   "source": [
    "json_list[0]['class']"
   ]
  },
  {
   "cell_type": "code",
   "execution_count": 7,
   "metadata": {},
   "outputs": [
    {
     "data": {
      "text/plain": [
       "[{'name': 'Mary', 'sex': 'F', 'grades': {'math': 75, 'physics': 98}},\n",
       " {'name': 'James', 'sex': 'M', 'grades': {'math': 80, 'physics': 78}}]"
      ]
     },
     "execution_count": 7,
     "metadata": {},
     "output_type": "execute_result"
    }
   ],
   "source": [
    "json_list[0]['students']"
   ]
  },
  {
   "cell_type": "markdown",
   "metadata": {},
   "source": [
    "Usando Pandas podemos intentar transformar un archivo json en un DataFrame estructurado:"
   ]
  },
  {
   "cell_type": "code",
   "execution_count": 9,
   "metadata": {},
   "outputs": [
    {
     "data": {
      "text/html": [
       "<div>\n",
       "<style scoped>\n",
       "    .dataframe tbody tr th:only-of-type {\n",
       "        vertical-align: middle;\n",
       "    }\n",
       "\n",
       "    .dataframe tbody tr th {\n",
       "        vertical-align: top;\n",
       "    }\n",
       "\n",
       "    .dataframe thead th {\n",
       "        text-align: right;\n",
       "    }\n",
       "</style>\n",
       "<table border=\"1\" class=\"dataframe\">\n",
       "  <thead>\n",
       "    <tr style=\"text-align: right;\">\n",
       "      <th></th>\n",
       "      <th>class</th>\n",
       "      <th>student count</th>\n",
       "      <th>room</th>\n",
       "      <th>info</th>\n",
       "      <th>students</th>\n",
       "    </tr>\n",
       "  </thead>\n",
       "  <tbody>\n",
       "    <tr>\n",
       "      <th>0</th>\n",
       "      <td>Year 1</td>\n",
       "      <td>35</td>\n",
       "      <td>A2</td>\n",
       "      <td>{'teachers': {'math': 'Emmy Noether', 'physics...</td>\n",
       "      <td>[{'name': 'Mary', 'sex': 'F', 'grades': {'math...</td>\n",
       "    </tr>\n",
       "    <tr>\n",
       "      <th>1</th>\n",
       "      <td>Year 2</td>\n",
       "      <td>28</td>\n",
       "      <td>A4</td>\n",
       "      <td>{'teachers': {'math': 'Alan Turing', 'physics'...</td>\n",
       "      <td>[{'name': 'Tony', 'sex': 'M'}, {'name': 'Jacqu...</td>\n",
       "    </tr>\n",
       "  </tbody>\n",
       "</table>\n",
       "</div>"
      ],
      "text/plain": [
       "    class  student count room  \\\n",
       "0  Year 1             35   A2   \n",
       "1  Year 2             28   A4   \n",
       "\n",
       "                                                info  \\\n",
       "0  {'teachers': {'math': 'Emmy Noether', 'physics...   \n",
       "1  {'teachers': {'math': 'Alan Turing', 'physics'...   \n",
       "\n",
       "                                            students  \n",
       "0  [{'name': 'Mary', 'sex': 'F', 'grades': {'math...  \n",
       "1  [{'name': 'Tony', 'sex': 'M'}, {'name': 'Jacqu...  "
      ]
     },
     "execution_count": 9,
     "metadata": {},
     "output_type": "execute_result"
    }
   ],
   "source": [
    "df = pd.DataFrame(json_list)\n",
    "df.head()"
   ]
  },
  {
   "cell_type": "code",
   "execution_count": 10,
   "metadata": {},
   "outputs": [
    {
     "data": {
      "text/plain": [
       "0    [{'name': 'Mary', 'sex': 'F', 'grades': {'math...\n",
       "1    [{'name': 'Tony', 'sex': 'M'}, {'name': 'Jacqu...\n",
       "Name: students, dtype: object"
      ]
     },
     "execution_count": 10,
     "metadata": {},
     "output_type": "execute_result"
    }
   ],
   "source": [
    "df['students']"
   ]
  },
  {
   "cell_type": "code",
   "execution_count": 11,
   "metadata": {},
   "outputs": [
    {
     "data": {
      "text/plain": [
       "[{'name': 'Mary', 'sex': 'F', 'grades': {'math': 75, 'physics': 98}},\n",
       " {'name': 'James', 'sex': 'M', 'grades': {'math': 80, 'physics': 78}}]"
      ]
     },
     "execution_count": 11,
     "metadata": {},
     "output_type": "execute_result"
    }
   ],
   "source": [
    "df['students'][0]"
   ]
  },
  {
   "cell_type": "code",
   "execution_count": 12,
   "metadata": {},
   "outputs": [
    {
     "data": {
      "text/plain": [
       "{'name': 'Mary', 'sex': 'F', 'grades': {'math': 75, 'physics': 98}}"
      ]
     },
     "execution_count": 12,
     "metadata": {},
     "output_type": "execute_result"
    }
   ],
   "source": [
    "df['students'][0][0]"
   ]
  },
  {
   "cell_type": "markdown",
   "metadata": {},
   "source": [
    "### 3.2 Transformando un json en un DataFrame\n",
    "\n",
    "El comando anterior no nos generó un DataFrame muy útil, pues muchos de los elementos son diccionarios adentro de una posición.\n",
    "\n",
    "Una característica común del formato `json`, y es porque los usamos, es que pueden ser anidado: el valor de un atributo pueder ser un nuevo diccionario, o una lista de diccionarios. Este tipo de datos anidados es más conveniente de utilizar en formato \"aplanado\" o \"flattened\", de manera que pueda ser almacenado en un DataFrame. La librería `pandas` tiene la función `json_normalize()` que hace exactamente esto por nosotros. Pueden encontrar más detalles en: https://pandas.pydata.org/pandas-docs/version/1.2.0/reference/api/pandas.json_normalize.html \n",
    "\n",
    "##json_normilize es un aplastamiento {practicar el aplastamiento}"
   ]
  },
  {
   "cell_type": "code",
   "execution_count": 13,
   "metadata": {},
   "outputs": [
    {
     "data": {
      "text/plain": [
       "pandas.core.frame.DataFrame"
      ]
     },
     "execution_count": 13,
     "metadata": {},
     "output_type": "execute_result"
    }
   ],
   "source": [
    "all_students = pd.json_normalize(json_list, sep=\".\")\n",
    "type(all_students)"
   ]
  },
  {
   "cell_type": "code",
   "execution_count": 14,
   "metadata": {},
   "outputs": [
    {
     "data": {
      "text/html": [
       "<div>\n",
       "<style scoped>\n",
       "    .dataframe tbody tr th:only-of-type {\n",
       "        vertical-align: middle;\n",
       "    }\n",
       "\n",
       "    .dataframe tbody tr th {\n",
       "        vertical-align: top;\n",
       "    }\n",
       "\n",
       "    .dataframe thead th {\n",
       "        text-align: right;\n",
       "    }\n",
       "</style>\n",
       "<table border=\"1\" class=\"dataframe\">\n",
       "  <thead>\n",
       "    <tr style=\"text-align: right;\">\n",
       "      <th></th>\n",
       "      <th>class</th>\n",
       "      <th>student count</th>\n",
       "      <th>room</th>\n",
       "      <th>students</th>\n",
       "      <th>info.teachers.math</th>\n",
       "      <th>info.teachers.physics</th>\n",
       "    </tr>\n",
       "  </thead>\n",
       "  <tbody>\n",
       "    <tr>\n",
       "      <th>0</th>\n",
       "      <td>Year 1</td>\n",
       "      <td>35</td>\n",
       "      <td>A2</td>\n",
       "      <td>[{'name': 'Mary', 'sex': 'F', 'grades': {'math...</td>\n",
       "      <td>Emmy Noether</td>\n",
       "      <td>Richard Feynman</td>\n",
       "    </tr>\n",
       "    <tr>\n",
       "      <th>1</th>\n",
       "      <td>Year 2</td>\n",
       "      <td>28</td>\n",
       "      <td>A4</td>\n",
       "      <td>[{'name': 'Tony', 'sex': 'M'}, {'name': 'Jacqu...</td>\n",
       "      <td>Alan Turing</td>\n",
       "      <td>Vera Rubin</td>\n",
       "    </tr>\n",
       "  </tbody>\n",
       "</table>\n",
       "</div>"
      ],
      "text/plain": [
       "    class  student count room  \\\n",
       "0  Year 1             35   A2   \n",
       "1  Year 2             28   A4   \n",
       "\n",
       "                                            students info.teachers.math  \\\n",
       "0  [{'name': 'Mary', 'sex': 'F', 'grades': {'math...       Emmy Noether   \n",
       "1  [{'name': 'Tony', 'sex': 'M'}, {'name': 'Jacqu...        Alan Turing   \n",
       "\n",
       "  info.teachers.physics  \n",
       "0       Richard Feynman  \n",
       "1            Vera Rubin  "
      ]
     },
     "execution_count": 14,
     "metadata": {},
     "output_type": "execute_result"
    }
   ],
   "source": [
    "all_students.head()"
   ]
  },
  {
   "cell_type": "markdown",
   "metadata": {},
   "source": [
    "La función `json_normalize` expande automáticamente todos los diccionarios anidados. Si tenemos también listas de diccionarios (como ocurre con `students`), hay que usar el parámetro `path_record` para expandir los diccionarios contenidos dentro de la lista."
   ]
  },
  {
   "cell_type": "code",
   "execution_count": 15,
   "metadata": {},
   "outputs": [
    {
     "data": {
      "text/html": [
       "<div>\n",
       "<style scoped>\n",
       "    .dataframe tbody tr th:only-of-type {\n",
       "        vertical-align: middle;\n",
       "    }\n",
       "\n",
       "    .dataframe tbody tr th {\n",
       "        vertical-align: top;\n",
       "    }\n",
       "\n",
       "    .dataframe thead th {\n",
       "        text-align: right;\n",
       "    }\n",
       "</style>\n",
       "<table border=\"1\" class=\"dataframe\">\n",
       "  <thead>\n",
       "    <tr style=\"text-align: right;\">\n",
       "      <th></th>\n",
       "      <th>name</th>\n",
       "      <th>sex</th>\n",
       "      <th>grades_math</th>\n",
       "      <th>grades_physics</th>\n",
       "    </tr>\n",
       "  </thead>\n",
       "  <tbody>\n",
       "    <tr>\n",
       "      <th>0</th>\n",
       "      <td>Mary</td>\n",
       "      <td>F</td>\n",
       "      <td>75.0</td>\n",
       "      <td>98.0</td>\n",
       "    </tr>\n",
       "    <tr>\n",
       "      <th>1</th>\n",
       "      <td>James</td>\n",
       "      <td>M</td>\n",
       "      <td>80.0</td>\n",
       "      <td>78.0</td>\n",
       "    </tr>\n",
       "    <tr>\n",
       "      <th>2</th>\n",
       "      <td>Tony</td>\n",
       "      <td>M</td>\n",
       "      <td>NaN</td>\n",
       "      <td>NaN</td>\n",
       "    </tr>\n",
       "    <tr>\n",
       "      <th>3</th>\n",
       "      <td>Jacqueline</td>\n",
       "      <td>F</td>\n",
       "      <td>NaN</td>\n",
       "      <td>NaN</td>\n",
       "    </tr>\n",
       "  </tbody>\n",
       "</table>\n",
       "</div>"
      ],
      "text/plain": [
       "         name sex  grades_math  grades_physics\n",
       "0        Mary   F         75.0            98.0\n",
       "1       James   M         80.0            78.0\n",
       "2        Tony   M          NaN             NaN\n",
       "3  Jacqueline   F          NaN             NaN"
      ]
     },
     "execution_count": 15,
     "metadata": {},
     "output_type": "execute_result"
    }
   ],
   "source": [
    "all_students = pd.json_normalize(json_list, sep=\"_\", record_path=['students'])\n",
    "all_students.head()"
   ]
  },
  {
   "cell_type": "markdown",
   "metadata": {},
   "source": [
    "Esto nos permitió ordenar por alumno, pero nos quedó afuera mucha información asociada al alumno. Para agregarla debemos indicar, usando el parámetro `meta` la información adicional a copiar.\n",
    "\n",
    "#Para no perder la información aplastada que quedé fuera"
   ]
  },
  {
   "cell_type": "code",
   "execution_count": 19,
   "metadata": {},
   "outputs": [
    {
     "data": {
      "text/html": [
       "<div>\n",
       "<style scoped>\n",
       "    .dataframe tbody tr th:only-of-type {\n",
       "        vertical-align: middle;\n",
       "    }\n",
       "\n",
       "    .dataframe tbody tr th {\n",
       "        vertical-align: top;\n",
       "    }\n",
       "\n",
       "    .dataframe thead th {\n",
       "        text-align: right;\n",
       "    }\n",
       "</style>\n",
       "<table border=\"1\" class=\"dataframe\">\n",
       "  <thead>\n",
       "    <tr style=\"text-align: right;\">\n",
       "      <th></th>\n",
       "      <th>name</th>\n",
       "      <th>sex</th>\n",
       "      <th>grades_math</th>\n",
       "      <th>grades_physics</th>\n",
       "      <th>class</th>\n",
       "      <th>student count</th>\n",
       "      <th>room</th>\n",
       "      <th>info</th>\n",
       "    </tr>\n",
       "  </thead>\n",
       "  <tbody>\n",
       "    <tr>\n",
       "      <th>0</th>\n",
       "      <td>Mary</td>\n",
       "      <td>F</td>\n",
       "      <td>75.0</td>\n",
       "      <td>98.0</td>\n",
       "      <td>Year 1</td>\n",
       "      <td>35</td>\n",
       "      <td>A2</td>\n",
       "      <td>{'teachers': {'math': 'Emmy Noether', 'physics...</td>\n",
       "    </tr>\n",
       "    <tr>\n",
       "      <th>1</th>\n",
       "      <td>James</td>\n",
       "      <td>M</td>\n",
       "      <td>80.0</td>\n",
       "      <td>78.0</td>\n",
       "      <td>Year 1</td>\n",
       "      <td>35</td>\n",
       "      <td>A2</td>\n",
       "      <td>{'teachers': {'math': 'Emmy Noether', 'physics...</td>\n",
       "    </tr>\n",
       "    <tr>\n",
       "      <th>2</th>\n",
       "      <td>Tony</td>\n",
       "      <td>M</td>\n",
       "      <td>NaN</td>\n",
       "      <td>NaN</td>\n",
       "      <td>Year 2</td>\n",
       "      <td>28</td>\n",
       "      <td>A4</td>\n",
       "      <td>{'teachers': {'math': 'Alan Turing', 'physics'...</td>\n",
       "    </tr>\n",
       "    <tr>\n",
       "      <th>3</th>\n",
       "      <td>Jacqueline</td>\n",
       "      <td>F</td>\n",
       "      <td>NaN</td>\n",
       "      <td>NaN</td>\n",
       "      <td>Year 2</td>\n",
       "      <td>28</td>\n",
       "      <td>A4</td>\n",
       "      <td>{'teachers': {'math': 'Alan Turing', 'physics'...</td>\n",
       "    </tr>\n",
       "  </tbody>\n",
       "</table>\n",
       "</div>"
      ],
      "text/plain": [
       "         name sex  grades_math  grades_physics   class student count room  \\\n",
       "0        Mary   F         75.0            98.0  Year 1            35   A2   \n",
       "1       James   M         80.0            78.0  Year 1            35   A2   \n",
       "2        Tony   M          NaN             NaN  Year 2            28   A4   \n",
       "3  Jacqueline   F          NaN             NaN  Year 2            28   A4   \n",
       "\n",
       "                                                info  \n",
       "0  {'teachers': {'math': 'Emmy Noether', 'physics...  \n",
       "1  {'teachers': {'math': 'Emmy Noether', 'physics...  \n",
       "2  {'teachers': {'math': 'Alan Turing', 'physics'...  \n",
       "3  {'teachers': {'math': 'Alan Turing', 'physics'...  "
      ]
     },
     "execution_count": 19,
     "metadata": {},
     "output_type": "execute_result"
    }
   ],
   "source": [
    "all_students_grades = pd.json_normalize(json_list, sep=\"_\", record_path=['students'], meta=['class','student count','room','info'], max_level=None)\n",
    "all_students_grades.head()"
   ]
  },
  {
   "cell_type": "markdown",
   "metadata": {},
   "source": [
    "Podemos expandir aún más la información, agregando los detalles por profesor."
   ]
  },
  {
   "cell_type": "code",
   "execution_count": 17,
   "metadata": {},
   "outputs": [
    {
     "data": {
      "text/html": [
       "<div>\n",
       "<style scoped>\n",
       "    .dataframe tbody tr th:only-of-type {\n",
       "        vertical-align: middle;\n",
       "    }\n",
       "\n",
       "    .dataframe tbody tr th {\n",
       "        vertical-align: top;\n",
       "    }\n",
       "\n",
       "    .dataframe thead th {\n",
       "        text-align: right;\n",
       "    }\n",
       "</style>\n",
       "<table border=\"1\" class=\"dataframe\">\n",
       "  <thead>\n",
       "    <tr style=\"text-align: right;\">\n",
       "      <th></th>\n",
       "      <th>name</th>\n",
       "      <th>sex</th>\n",
       "      <th>grades_math</th>\n",
       "      <th>grades_physics</th>\n",
       "      <th>class</th>\n",
       "      <th>student count</th>\n",
       "      <th>room</th>\n",
       "      <th>info_teachers_math</th>\n",
       "      <th>info_teachers_physics</th>\n",
       "    </tr>\n",
       "  </thead>\n",
       "  <tbody>\n",
       "    <tr>\n",
       "      <th>0</th>\n",
       "      <td>Mary</td>\n",
       "      <td>F</td>\n",
       "      <td>75.0</td>\n",
       "      <td>98.0</td>\n",
       "      <td>Year 1</td>\n",
       "      <td>35</td>\n",
       "      <td>A2</td>\n",
       "      <td>Emmy Noether</td>\n",
       "      <td>Richard Feynman</td>\n",
       "    </tr>\n",
       "    <tr>\n",
       "      <th>1</th>\n",
       "      <td>James</td>\n",
       "      <td>M</td>\n",
       "      <td>80.0</td>\n",
       "      <td>78.0</td>\n",
       "      <td>Year 1</td>\n",
       "      <td>35</td>\n",
       "      <td>A2</td>\n",
       "      <td>Emmy Noether</td>\n",
       "      <td>Richard Feynman</td>\n",
       "    </tr>\n",
       "    <tr>\n",
       "      <th>2</th>\n",
       "      <td>Tony</td>\n",
       "      <td>M</td>\n",
       "      <td>NaN</td>\n",
       "      <td>NaN</td>\n",
       "      <td>Year 2</td>\n",
       "      <td>28</td>\n",
       "      <td>A4</td>\n",
       "      <td>Alan Turing</td>\n",
       "      <td>Vera Rubin</td>\n",
       "    </tr>\n",
       "    <tr>\n",
       "      <th>3</th>\n",
       "      <td>Jacqueline</td>\n",
       "      <td>F</td>\n",
       "      <td>NaN</td>\n",
       "      <td>NaN</td>\n",
       "      <td>Year 2</td>\n",
       "      <td>28</td>\n",
       "      <td>A4</td>\n",
       "      <td>Alan Turing</td>\n",
       "      <td>Vera Rubin</td>\n",
       "    </tr>\n",
       "  </tbody>\n",
       "</table>\n",
       "</div>"
      ],
      "text/plain": [
       "         name sex  grades_math  grades_physics   class student count room  \\\n",
       "0        Mary   F         75.0            98.0  Year 1            35   A2   \n",
       "1       James   M         80.0            78.0  Year 1            35   A2   \n",
       "2        Tony   M          NaN             NaN  Year 2            28   A4   \n",
       "3  Jacqueline   F          NaN             NaN  Year 2            28   A4   \n",
       "\n",
       "  info_teachers_math info_teachers_physics  \n",
       "0       Emmy Noether       Richard Feynman  \n",
       "1       Emmy Noether       Richard Feynman  \n",
       "2        Alan Turing            Vera Rubin  \n",
       "3        Alan Turing            Vera Rubin  "
      ]
     },
     "execution_count": 17,
     "metadata": {},
     "output_type": "execute_result"
    }
   ],
   "source": [
    "all_students_grades= pd.json_normalize(json_list, sep=\"_\", record_path=['students'], meta=['class','student count','room',['info','teachers','math'], ['info','teachers','physics']], max_level=None)\n",
    "all_students_grades.head()"
   ]
  },
  {
   "cell_type": "code",
   "execution_count": 20,
   "metadata": {},
   "outputs": [],
   "source": [
    "# almacenar la información bajo este orden en un archivo json\n",
    "all_students_grades.to_json('students.json')"
   ]
  },
  {
   "cell_type": "markdown",
   "metadata": {},
   "source": [
    "## 4. Lectura de un archivo json\n",
    "\n",
    "La librería `json` también nos permite leer este tipo de formato e importar directamente a nuestro código. Hagamos el ejemplo con los datos de restaurantes de santiago de Yelp."
   ]
  },
  {
   "cell_type": "code",
   "execution_count": 25,
   "metadata": {},
   "outputs": [
    {
     "data": {
      "text/plain": [
       "dict"
      ]
     },
     "execution_count": 25,
     "metadata": {},
     "output_type": "execute_result"
    }
   ],
   "source": [
    "restaurantes = json.load(open('restaurants.json','r'))\n",
    "type(restaurantes)"
   ]
  },
  {
   "cell_type": "code",
   "execution_count": null,
   "metadata": {},
   "outputs": [],
   "source": [
    "restaurantes"
   ]
  },
  {
   "cell_type": "code",
   "execution_count": 24,
   "metadata": {},
   "outputs": [
    {
     "data": {
      "text/plain": [
       "dict_keys(['businesses', 'total', 'region'])"
      ]
     },
     "execution_count": 24,
     "metadata": {},
     "output_type": "execute_result"
    }
   ],
   "source": [
    "restaurantes.keys()"
   ]
  },
  {
   "cell_type": "code",
   "execution_count": 23,
   "metadata": {},
   "outputs": [
    {
     "data": {
      "text/plain": [
       "2200"
      ]
     },
     "execution_count": 23,
     "metadata": {},
     "output_type": "execute_result"
    }
   ],
   "source": [
    "restaurantes['total']"
   ]
  },
  {
   "cell_type": "code",
   "execution_count": 26,
   "metadata": {},
   "outputs": [
    {
     "data": {
      "text/plain": [
       "{'center': {'longitude': -70.6256103515625, 'latitude': -33.44387694471913}}"
      ]
     },
     "execution_count": 26,
     "metadata": {},
     "output_type": "execute_result"
    }
   ],
   "source": [
    "restaurantes['region']"
   ]
  },
  {
   "cell_type": "code",
   "execution_count": 27,
   "metadata": {},
   "outputs": [
    {
     "data": {
      "text/plain": [
       "{'id': '8N6Y3HsLXHBeFwhlO0YxwQ',\n",
       " 'alias': 'barrica-94-santiago',\n",
       " 'name': 'Barrica 94',\n",
       " 'image_url': 'https://s3-media2.fl.yelpcdn.com/bphoto/nuJaODltnNB6J_ww3g-JyA/o.jpg',\n",
       " 'is_closed': False,\n",
       " 'url': 'https://www.yelp.com/biz/barrica-94-santiago?adjust_creative=GWOCZh9-BmZxtdsAjr7Gug&utm_campaign=yelp_api_v3&utm_medium=api_v3_business_search&utm_source=GWOCZh9-BmZxtdsAjr7Gug',\n",
       " 'review_count': 72,\n",
       " 'categories': [{'alias': 'wine_bars', 'title': 'Wine Bars'},\n",
       "  {'alias': 'chilean', 'title': 'Chilean'},\n",
       "  {'alias': 'cocktailbars', 'title': 'Cocktail Bars'}],\n",
       " 'rating': 4.5,\n",
       " 'coordinates': {'latitude': -33.4342880070125,\n",
       "  'longitude': -70.6352240592241},\n",
       " 'transactions': [],\n",
       " 'price': '$$',\n",
       " 'location': {'address1': 'Bellavista 052',\n",
       "  'address2': '',\n",
       "  'address3': '',\n",
       "  'city': 'Santiago',\n",
       "  'zip_code': '8320000',\n",
       "  'country': 'CL',\n",
       "  'state': 'RM',\n",
       "  'display_address': ['Bellavista 052', 'RM 8320000 Santiago', 'Chile']},\n",
       " 'phone': '+5627324939',\n",
       " 'display_phone': '+56 27324939',\n",
       " 'distance': 1390.184857350938}"
      ]
     },
     "execution_count": 27,
     "metadata": {},
     "output_type": "execute_result"
    }
   ],
   "source": [
    "restaurantes['businesses'][0]"
   ]
  },
  {
   "cell_type": "code",
   "execution_count": 28,
   "metadata": {
    "scrolled": true
   },
   "outputs": [
    {
     "data": {
      "text/html": [
       "<div>\n",
       "<style scoped>\n",
       "    .dataframe tbody tr th:only-of-type {\n",
       "        vertical-align: middle;\n",
       "    }\n",
       "\n",
       "    .dataframe tbody tr th {\n",
       "        vertical-align: top;\n",
       "    }\n",
       "\n",
       "    .dataframe thead th {\n",
       "        text-align: right;\n",
       "    }\n",
       "</style>\n",
       "<table border=\"1\" class=\"dataframe\">\n",
       "  <thead>\n",
       "    <tr style=\"text-align: right;\">\n",
       "      <th></th>\n",
       "      <th>id</th>\n",
       "      <th>alias</th>\n",
       "      <th>name</th>\n",
       "      <th>image_url</th>\n",
       "      <th>is_closed</th>\n",
       "      <th>url</th>\n",
       "      <th>review_count</th>\n",
       "      <th>categories</th>\n",
       "      <th>rating</th>\n",
       "      <th>coordinates</th>\n",
       "      <th>transactions</th>\n",
       "      <th>price</th>\n",
       "      <th>location</th>\n",
       "      <th>phone</th>\n",
       "      <th>display_phone</th>\n",
       "      <th>distance</th>\n",
       "    </tr>\n",
       "  </thead>\n",
       "  <tbody>\n",
       "    <tr>\n",
       "      <th>0</th>\n",
       "      <td>8N6Y3HsLXHBeFwhlO0YxwQ</td>\n",
       "      <td>barrica-94-santiago</td>\n",
       "      <td>Barrica 94</td>\n",
       "      <td>https://s3-media2.fl.yelpcdn.com/bphoto/nuJaOD...</td>\n",
       "      <td>False</td>\n",
       "      <td>https://www.yelp.com/biz/barrica-94-santiago?a...</td>\n",
       "      <td>72</td>\n",
       "      <td>[{'alias': 'wine_bars', 'title': 'Wine Bars'},...</td>\n",
       "      <td>4.5</td>\n",
       "      <td>{'latitude': -33.4342880070125, 'longitude': -...</td>\n",
       "      <td>[]</td>\n",
       "      <td>$$</td>\n",
       "      <td>{'address1': 'Bellavista 052', 'address2': '',...</td>\n",
       "      <td>+5627324939</td>\n",
       "      <td>+56 27324939</td>\n",
       "      <td>1390.184857</td>\n",
       "    </tr>\n",
       "    <tr>\n",
       "      <th>1</th>\n",
       "      <td>KQ2D3gs9y0wIuTqoKOHO4w</td>\n",
       "      <td>mestizo-santiago</td>\n",
       "      <td>Mestizo</td>\n",
       "      <td>https://s3-media3.fl.yelpcdn.com/bphoto/XBkpGr...</td>\n",
       "      <td>False</td>\n",
       "      <td>https://www.yelp.com/biz/mestizo-santiago?adju...</td>\n",
       "      <td>52</td>\n",
       "      <td>[{'alias': 'chilean', 'title': 'Chilean'}, {'a...</td>\n",
       "      <td>4.5</td>\n",
       "      <td>{'latitude': -33.394083457956, 'longitude': -7...</td>\n",
       "      <td>[]</td>\n",
       "      <td>$$$$</td>\n",
       "      <td>{'address1': 'Av. del Bicentenario 4050', 'add...</td>\n",
       "      <td>+56974776093</td>\n",
       "      <td>+56 9 7477 6093</td>\n",
       "      <td>6024.195625</td>\n",
       "    </tr>\n",
       "    <tr>\n",
       "      <th>2</th>\n",
       "      <td>y2FR-JBGie4wiW6RjtKLhg</td>\n",
       "      <td>aquí-está-coco-santiago</td>\n",
       "      <td>Aquí Está Coco</td>\n",
       "      <td>https://s3-media2.fl.yelpcdn.com/bphoto/6IkPzb...</td>\n",
       "      <td>False</td>\n",
       "      <td>https://www.yelp.com/biz/aqu%C3%AD-est%C3%A1-c...</td>\n",
       "      <td>52</td>\n",
       "      <td>[{'alias': 'seafood', 'title': 'Seafood'}]</td>\n",
       "      <td>4.5</td>\n",
       "      <td>{'latitude': -33.42406349, 'longitude': -70.61...</td>\n",
       "      <td>[]</td>\n",
       "      <td>$$$$</td>\n",
       "      <td>{'address1': 'La Concepción 236', 'address2': ...</td>\n",
       "      <td>+5624106200</td>\n",
       "      <td>+56 24106200</td>\n",
       "      <td>2355.685975</td>\n",
       "    </tr>\n",
       "    <tr>\n",
       "      <th>3</th>\n",
       "      <td>FTnehJpfn5t3iq_eGcE6pg</td>\n",
       "      <td>galindo-santiago</td>\n",
       "      <td>Galindo</td>\n",
       "      <td>https://s3-media2.fl.yelpcdn.com/bphoto/GHOdcj...</td>\n",
       "      <td>False</td>\n",
       "      <td>https://www.yelp.com/biz/galindo-santiago?adju...</td>\n",
       "      <td>57</td>\n",
       "      <td>[{'alias': 'chilean', 'title': 'Chilean'}, {'a...</td>\n",
       "      <td>4.0</td>\n",
       "      <td>{'latitude': -33.433069, 'longitude': -70.634928}</td>\n",
       "      <td>[]</td>\n",
       "      <td>$$</td>\n",
       "      <td>{'address1': 'Dardignac 98', 'address2': None,...</td>\n",
       "      <td>+56227770116</td>\n",
       "      <td>+56 2 2777 0116</td>\n",
       "      <td>1480.470569</td>\n",
       "    </tr>\n",
       "    <tr>\n",
       "      <th>4</th>\n",
       "      <td>CAFL80wAGOMcPrEO6uMnkA</td>\n",
       "      <td>fuente-alemana-santiago-2</td>\n",
       "      <td>Fuente Alemana</td>\n",
       "      <td>https://s3-media1.fl.yelpcdn.com/bphoto/BqZVmt...</td>\n",
       "      <td>False</td>\n",
       "      <td>https://www.yelp.com/biz/fuente-alemana-santia...</td>\n",
       "      <td>55</td>\n",
       "      <td>[{'alias': 'sandwiches', 'title': 'Sandwiches'}]</td>\n",
       "      <td>4.5</td>\n",
       "      <td>{'latitude': -33.4375198417072, 'longitude': -...</td>\n",
       "      <td>[]</td>\n",
       "      <td>$$</td>\n",
       "      <td>{'address1': 'Av. Libertador Bernardo O'Higgin...</td>\n",
       "      <td>+5626393231</td>\n",
       "      <td>+56 26393231</td>\n",
       "      <td>1197.179790</td>\n",
       "    </tr>\n",
       "  </tbody>\n",
       "</table>\n",
       "</div>"
      ],
      "text/plain": [
       "                       id                      alias            name  \\\n",
       "0  8N6Y3HsLXHBeFwhlO0YxwQ        barrica-94-santiago      Barrica 94   \n",
       "1  KQ2D3gs9y0wIuTqoKOHO4w           mestizo-santiago         Mestizo   \n",
       "2  y2FR-JBGie4wiW6RjtKLhg    aquí-está-coco-santiago  Aquí Está Coco   \n",
       "3  FTnehJpfn5t3iq_eGcE6pg           galindo-santiago         Galindo   \n",
       "4  CAFL80wAGOMcPrEO6uMnkA  fuente-alemana-santiago-2  Fuente Alemana   \n",
       "\n",
       "                                           image_url  is_closed  \\\n",
       "0  https://s3-media2.fl.yelpcdn.com/bphoto/nuJaOD...      False   \n",
       "1  https://s3-media3.fl.yelpcdn.com/bphoto/XBkpGr...      False   \n",
       "2  https://s3-media2.fl.yelpcdn.com/bphoto/6IkPzb...      False   \n",
       "3  https://s3-media2.fl.yelpcdn.com/bphoto/GHOdcj...      False   \n",
       "4  https://s3-media1.fl.yelpcdn.com/bphoto/BqZVmt...      False   \n",
       "\n",
       "                                                 url  review_count  \\\n",
       "0  https://www.yelp.com/biz/barrica-94-santiago?a...            72   \n",
       "1  https://www.yelp.com/biz/mestizo-santiago?adju...            52   \n",
       "2  https://www.yelp.com/biz/aqu%C3%AD-est%C3%A1-c...            52   \n",
       "3  https://www.yelp.com/biz/galindo-santiago?adju...            57   \n",
       "4  https://www.yelp.com/biz/fuente-alemana-santia...            55   \n",
       "\n",
       "                                          categories  rating  \\\n",
       "0  [{'alias': 'wine_bars', 'title': 'Wine Bars'},...     4.5   \n",
       "1  [{'alias': 'chilean', 'title': 'Chilean'}, {'a...     4.5   \n",
       "2         [{'alias': 'seafood', 'title': 'Seafood'}]     4.5   \n",
       "3  [{'alias': 'chilean', 'title': 'Chilean'}, {'a...     4.0   \n",
       "4   [{'alias': 'sandwiches', 'title': 'Sandwiches'}]     4.5   \n",
       "\n",
       "                                         coordinates transactions price  \\\n",
       "0  {'latitude': -33.4342880070125, 'longitude': -...           []    $$   \n",
       "1  {'latitude': -33.394083457956, 'longitude': -7...           []  $$$$   \n",
       "2  {'latitude': -33.42406349, 'longitude': -70.61...           []  $$$$   \n",
       "3  {'latitude': -33.433069, 'longitude': -70.634928}           []    $$   \n",
       "4  {'latitude': -33.4375198417072, 'longitude': -...           []    $$   \n",
       "\n",
       "                                            location         phone  \\\n",
       "0  {'address1': 'Bellavista 052', 'address2': '',...   +5627324939   \n",
       "1  {'address1': 'Av. del Bicentenario 4050', 'add...  +56974776093   \n",
       "2  {'address1': 'La Concepción 236', 'address2': ...   +5624106200   \n",
       "3  {'address1': 'Dardignac 98', 'address2': None,...  +56227770116   \n",
       "4  {'address1': 'Av. Libertador Bernardo O'Higgin...   +5626393231   \n",
       "\n",
       "     display_phone     distance  \n",
       "0     +56 27324939  1390.184857  \n",
       "1  +56 9 7477 6093  6024.195625  \n",
       "2     +56 24106200  2355.685975  \n",
       "3  +56 2 2777 0116  1480.470569  \n",
       "4     +56 26393231  1197.179790  "
      ]
     },
     "execution_count": 28,
     "metadata": {},
     "output_type": "execute_result"
    }
   ],
   "source": [
    "df = pd.DataFrame(restaurantes['businesses'])\n",
    "df.head()"
   ]
  },
  {
   "cell_type": "markdown",
   "metadata": {},
   "source": [
    "## 5. Conciertos de la Filarmónica de NY\n",
    "\n",
    "Revisemos ahora un archivo JSON más grande, con los datos de los conciertos de la Orquesta Filarmónica de Nueva York. \n",
    "\n",
    "El `json` de la filarmónica tiene el siguiente formato:\n",
    "\n",
    "```\n",
    "{\n",
    "  \"programs\": [\n",
    "    {\n",
    "      \"id\": \"38e072a7-8fc9-4f9a-8eac-3957905c0002\", // GUID\n",
    "      \"programID\": \"3853\", // NYP Local ID\n",
    "      \"orchestra\": \"New York Philharmonic\",\n",
    "      \"season\": \"1842-43\",\n",
    "      \"concerts\": [\n",
    "        {\n",
    "           \"eventType\": \"Subscription Season\",\n",
    "           \"Location\": \"Manhattan, NY\",\n",
    "           \"Venue\": \"Apollo Rooms\",\n",
    "           \"Date\": \"1842-12-07T05:00:00Z\",\n",
    "           \"Time\": \"8:00PM\"\n",
    "        },\n",
    "        /* A program can have multiple concerts */\n",
    "      ],\n",
    "      \"works\": [\n",
    "        {\n",
    "          \"ID\": \"8834*4\", // e.g. \"1234*1\" - first part is the Work ID, second part is the NYP Movement ID\n",
    "          \"composerName\": \"Weber,  Carl  Maria Von\",\n",
    "          \"workTitle\": \"OBERON\",\n",
    "          \"movement\": \"\\\"Ozean, du Ungeheuer\\\" (Ocean, thou mighty monster), Reiza (Scene and Aria), Act II\",\n",
    "          \"conductorName\": \"Timm, Henry C.\",\n",
    "          \"soloists\": [\n",
    "            {\n",
    "              \"soloistName\": \"Otto, Antoinette\",\n",
    "              \"soloistInstrument\": \"Soprano\",\n",
    "              \"soloistRoles\": \"S\"\n",
    "            },\n",
    "            /* more soloists, if applicable. If no soloists, this will be an empty array */\n",
    "          ]\n",
    "        },\n",
    "        /* a program will usually have multiple works */\n",
    "        {\n",
    "          \"ID\": \"0*\",\n",
    "          \"interval\": \"Intermission\",\n",
    "          \"soloists\": []\n",
    "        },\n",
    "        /* Intermissions will also appear in the works array */\n",
    "      ]\n",
    "    },\n",
    "    /* more programs */\n",
    "  ]\n",
    "}\n",
    "```"
   ]
  },
  {
   "cell_type": "code",
   "execution_count": 29,
   "metadata": {},
   "outputs": [
    {
     "data": {
      "text/plain": [
       "dict"
      ]
     },
     "execution_count": 29,
     "metadata": {},
     "output_type": "execute_result"
    }
   ],
   "source": [
    "datos_raw = json.load(open('complete.json','r', encoding='UTF-8'))\n",
    "type(datos_raw)"
   ]
  },
  {
   "cell_type": "code",
   "execution_count": null,
   "metadata": {},
   "outputs": [],
   "source": [
    "datos_raw['programs'][0].keys()"
   ]
  },
  {
   "cell_type": "code",
   "execution_count": null,
   "metadata": {},
   "outputs": [],
   "source": [
    "datos_raw['programs'][0]"
   ]
  },
  {
   "cell_type": "code",
   "execution_count": null,
   "metadata": {},
   "outputs": [],
   "source": [
    "datos_raw['programs'][0]['concerts']"
   ]
  },
  {
   "cell_type": "code",
   "execution_count": null,
   "metadata": {},
   "outputs": [],
   "source": [
    "datos_raw['programs'][0]['works']"
   ]
  },
  {
   "cell_type": "code",
   "execution_count": null,
   "metadata": {},
   "outputs": [],
   "source": [
    "# tratemos de crear un DataFrame\n",
    "nycphil = pd.json_normalize(datos_raw['programs'])\n",
    "nycphil.head()"
   ]
  },
  {
   "cell_type": "markdown",
   "metadata": {},
   "source": [
    "Vemos dos columnas que tienen datos anidados. Usemos la función `json_normalize` para desempacar la columna de conciertos en un nuevo DataFrame"
   ]
  },
  {
   "cell_type": "code",
   "execution_count": null,
   "metadata": {},
   "outputs": [],
   "source": [
    "concert_data = pd.json_normalize(data=datos_raw['programs'], record_path='concerts', meta=['id', 'orchestra','programID', 'season'])\n",
    "concert_data.head()"
   ]
  },
  {
   "cell_type": "markdown",
   "metadata": {},
   "source": [
    "¿Cuántos conciertos han realizado desde el 7 de diciembre de 1842?"
   ]
  },
  {
   "cell_type": "code",
   "execution_count": null,
   "metadata": {},
   "outputs": [],
   "source": [
    "len(concert_data)"
   ]
  },
  {
   "cell_type": "code",
   "execution_count": null,
   "metadata": {},
   "outputs": [],
   "source": []
  }
 ],
 "metadata": {
  "kernelspec": {
   "display_name": "Python 3 (ipykernel)",
   "language": "python",
   "name": "python3"
  },
  "language_info": {
   "codemirror_mode": {
    "name": "ipython",
    "version": 3
   },
   "file_extension": ".py",
   "mimetype": "text/x-python",
   "name": "python",
   "nbconvert_exporter": "python",
   "pygments_lexer": "ipython3",
   "version": "3.12.9"
  }
 },
 "nbformat": 4,
 "nbformat_minor": 4
}
